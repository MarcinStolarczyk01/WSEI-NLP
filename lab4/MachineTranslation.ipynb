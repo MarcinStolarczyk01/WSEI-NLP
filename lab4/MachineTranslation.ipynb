{
 "cells": [
  {
   "cell_type": "markdown",
   "id": "110bce21",
   "metadata": {},
   "source": [
    "# Machine translation"
   ]
  },
  {
   "cell_type": "code",
   "execution_count": 102,
   "id": "18906a97",
   "metadata": {},
   "outputs": [
    {
     "name": "stderr",
     "output_type": "stream",
     "text": [
      "huggingface/tokenizers: The current process just got forked, after parallelism has already been used. Disabling parallelism to avoid deadlocks...\n",
      "To disable this warning, you can either:\n",
      "\t- Avoid using `tokenizers` before the fork if possible\n",
      "\t- Explicitly set the environment variable TOKENIZERS_PARALLELISM=(true | false)\n",
      "2834.09s - pydevd: Sending message related to process being replaced timed-out after 5 seconds\n"
     ]
    }
   ],
   "source": [
    "!pip install -q datasets sentencepiece transformers torch transformers[torch]"
   ]
  },
  {
   "cell_type": "markdown",
   "id": "221d82ab",
   "metadata": {},
   "source": [
    "## Translation using transformer"
   ]
  },
  {
   "cell_type": "code",
   "execution_count": 103,
   "id": "c2b2223f",
   "metadata": {},
   "outputs": [],
   "source": [
    "pl_text = \"Wczesnym rankiem, gdy słońce dopiero zaczynało wschodzić, ulice miasta były jeszcze puste. Czuć było świeżość powietrza i delikatny zapach kawy unoszący się z pobliskiej kawiarni. To był idealny moment na spokojny spacer przed rozpoczęciem dnia.\"\n",
    "en_text = \"Early in the morning, as the sun was just beginning to rise, the city streets were still empty. The air felt fresh, and a gentle smell of coffee drifted from a nearby café. It was the perfect moment for a peaceful walk before the day began.\""
   ]
  },
  {
   "cell_type": "code",
   "execution_count": 104,
   "id": "73d660c3",
   "metadata": {},
   "outputs": [],
   "source": [
    "from transformers import AutoTokenizer, AutoModelForSeq2SeqLM\n",
    "\n",
    "tokenizer = AutoTokenizer.from_pretrained(\"Helsinki-NLP/opus-mt-pl-en\")\n",
    "model = AutoModelForSeq2SeqLM.from_pretrained(\"Helsinki-NLP/opus-mt-pl-en\")"
   ]
  },
  {
   "cell_type": "code",
   "execution_count": 105,
   "id": "79d45420",
   "metadata": {},
   "outputs": [],
   "source": [
    "tokenized_text_pl = tokenizer(pl_text, return_tensors=\"pt\")\n",
    "translated_tokens = model.generate(input_ids=tokenized_text_pl[\"input_ids\"], attention_mask=tokenized_text_pl['attention_mask'])\n",
    "translated = tokenizer.batch_decode(translated_tokens, skip_special_tokens=True)[0]\n"
   ]
  },
  {
   "cell_type": "code",
   "execution_count": 106,
   "id": "89579bff",
   "metadata": {},
   "outputs": [
    {
     "name": "stdout",
     "output_type": "stream",
     "text": [
      "Polish text:\n",
      " Wczesnym rankiem, gdy słońce dopiero zaczynało wschodzić, ulice miasta były jeszcze puste. Czuć było świeżość powietrza i delikatny zapach kawy unoszący się z pobliskiej kawiarni. To był idealny moment na spokojny spacer przed rozpoczęciem dnia.\n",
      "Translated text:\n",
      " Early in the morning, when the sun was just beginning to rise, the streets of the city were still empty. It felt fresh air and a gentle smell of coffee floating from a nearby cafe. It was the perfect moment for a quiet walk before the beginning of the day.\n",
      "Expected translation:\n",
      " Early in the morning, as the sun was just beginning to rise, the city streets were still empty. The air felt fresh, and a gentle smell of coffee drifted from a nearby café. It was the perfect moment for a peaceful walk before the day began.\n"
     ]
    }
   ],
   "source": [
    "print(f\"Polish text:\\n {pl_text}\")\n",
    "print(f\"Translated text:\\n {translated}\")\n",
    "print(f\"Expected translation:\\n {en_text}\")"
   ]
  },
  {
   "cell_type": "markdown",
   "id": "c5f6d99b",
   "metadata": {},
   "source": [
    "## Language detection"
   ]
  },
  {
   "cell_type": "code",
   "execution_count": 107,
   "id": "82b33306",
   "metadata": {},
   "outputs": [
    {
     "name": "stderr",
     "output_type": "stream",
     "text": [
      "huggingface/tokenizers: The current process just got forked, after parallelism has already been used. Disabling parallelism to avoid deadlocks...\n",
      "To disable this warning, you can either:\n",
      "\t- Avoid using `tokenizers` before the fork if possible\n",
      "\t- Explicitly set the environment variable TOKENIZERS_PARALLELISM=(true | false)\n",
      "2839.10s - pydevd: Sending message related to process being replaced timed-out after 5 seconds\n"
     ]
    }
   ],
   "source": [
    "!pip install -q langdetect"
   ]
  },
  {
   "cell_type": "code",
   "execution_count": 108,
   "id": "00d84ff4",
   "metadata": {},
   "outputs": [
    {
     "name": "stdout",
     "output_type": "stream",
     "text": [
      "Detected language: hu\n"
     ]
    }
   ],
   "source": [
    "from langdetect import detect\n",
    "\n",
    "source_text = \"Az ezer mérföldes utazás is egyetlen lépéssel kezdődik.\"\n",
    "print(f\"Detected language: {detect(source_text)}\")"
   ]
  },
  {
   "cell_type": "markdown",
   "id": "2742b143",
   "metadata": {},
   "source": [
    "## Language detection and translation with HERBERT model"
   ]
  },
  {
   "cell_type": "code",
   "execution_count": 109,
   "id": "f16a8844",
   "metadata": {},
   "outputs": [
    {
     "name": "stderr",
     "output_type": "stream",
     "text": [
      "huggingface/tokenizers: The current process just got forked, after parallelism has already been used. Disabling parallelism to avoid deadlocks...\n",
      "To disable this warning, you can either:\n",
      "\t- Avoid using `tokenizers` before the fork if possible\n",
      "\t- Explicitly set the environment variable TOKENIZERS_PARALLELISM=(true | false)\n",
      "2844.10s - pydevd: Sending message related to process being replaced timed-out after 5 seconds\n"
     ]
    }
   ],
   "source": [
    "!pip install -q googletrans==4.0.0-rc1 nltk"
   ]
  },
  {
   "cell_type": "code",
   "execution_count": 110,
   "id": "f480a542",
   "metadata": {},
   "outputs": [],
   "source": [
    "import googletrans\n",
    "\n",
    "text = \"\"\"Szklanka ma u mnie pojemność 250 ml.\n",
    "Do usmażenia naleśników użyłam szerokiej patelni do naleśników: średnica 24 cm.\n",
    "Z podanej ilości składników wyszło mi 16 bardzo cienkich naleśników. \n",
    "Jajka wyjmij wcześniej z lodówki. Możesz też lekko podgrzać mleko do temperatury nie wyższej niż 40 stopni.\n",
    "\n",
    "Kalorie policzone zostały na podstawie użytych przeze mnie składników. Jest to więc orientacyjna ilość kalorii, ponieważ nawet mąka może mieć inną ilość kalorii niż ta, której użyłam ja. \n",
    "\n",
    "Naleśniki szykuję przynajmniej raz w tygodniu. To danie proste, szybkie i uwielbiane przez dzieci. Możesz je podać na dowolny posiłek w ciągu dnia. Naleśniki możesz zabrać do pracy, do szkoły lub na piknik. Są po prostu boskie!\"\"\".replace(\"\\n\", \" \")\n",
    "translator = googletrans.Translator()\n",
    "\n",
    "def translate(text, dest) -> str:\n",
    "    return translator.translate(text, dest=dest, src=\"auto\").text\n",
    "\n",
    "destinations = {\n",
    "    \"en\": \"english\",\n",
    "    \"es\": \"spanish\",\n",
    "    \"de\": \"german\",\n",
    "    #\"lt\": \"lithuanian\",\n",
    "    \"ru\": \"russian\",\n",
    "    #\"hu\": \"hungarian\",\n",
    "    \"it\": \"italian\",\n",
    "    \"fr\": \"french\",\n",
    "    #\"sl\": \"slovenian\",\n",
    "    \"no\": \"norwegian\",\n",
    "}\n",
    "translated = []\n",
    "for des in destinations.keys():\n",
    "    translated.append(translate(text, des))"
   ]
  },
  {
   "cell_type": "code",
   "execution_count": 111,
   "id": "5383beaf",
   "metadata": {},
   "outputs": [
    {
     "data": {
      "text/plain": [
       "['The glass has a capacity of 250 ml for me.To fry pancakes, I used a wide pan to pancakes: diameter 24 cm.I got 16 very thin pancakes from the amount of ingredients given.Take the eggs from the fridge beforehand.You can also lightly heat the milk to a temperature not higher than 40 degrees.Calories were counted on the basis of the ingredients used by me.So this is an approximate amount of calories, because even flour can have a different amount of calories than the one I used.I prepare pancakes at least once a week.It is a simple dish, fast and loved by children.You can serve them for any meal during the day.You can take pancakes to work, school or for a picnic.They are simply divine!',\n",
       " 'El vidrio tiene una capacidad de 250 ml para mí.Para freír los panqueques, usé una sartén ancha a los panqueques: diámetro de 24 cm.Obtuve 16 panqueques muy delgados por la cantidad de ingredientes dados.Tome los huevos de la nevera de antemano.También puede calentar ligeramente la leche a una temperatura no superior a 40 grados.Las calorías se contaron sobre la base de los ingredientes utilizados por mí.Entonces, esta es una cantidad aproximada de calorías, porque incluso la harina puede tener una cantidad diferente de calorías que la que usé.Preparo panqueques al menos una vez a la semana.Es un plato simple, rápido y amado por los niños.Puede servirlos para cualquier comida durante el día.Puedes llevar panqueques al trabajo, la escuela o para un picnic.¡Son simplemente divinos!',\n",
       " 'Das Glas hat für mich eine Kapazität von 250 ml. Um Pfannkuchen zu schämen, benutzte ich eine breite Pfanne, um Pfannkuchen zu verbringen: Durchmesser 24 cm.Ich bekam 16 sehr dünne Pfannkuchen aus der Menge an Zutaten.Nehmen Sie die Eier im Voraus aus dem Kühlschrank.Sie können die Milch auch leicht auf eine Temperatur von nicht mehr als 40 Grad erhitzen.Die Kalorien wurden auf der Grundlage der von mir verwendeten Zutaten gezählt.Dies ist also eine ungefähre Menge an Kalorien, da selbst Mehl eine andere Menge an Kalorien haben kann als die, die ich verwendet habe.Ich bereite mindestens einmal pro Woche Pfannkuchen vor.Es ist ein einfaches Gericht, schnell und von Kindern geliebt.Sie können sie tagsüber für jede Mahlzeit servieren.Sie können Pfannkuchen zur Arbeit, Schule oder ein Picknick nehmen.Sie sind einfach göttlich!',\n",
       " 'Стекло имеет для меня емкость 250 мл.Чтобы жарить блины, я использовал широкую кастрюлю для блинов: диаметр 24 см. Я получил 16 очень тонких блинов от количества данных ингредиентов.Забегайте яйца из холодильника заранее.Вы также можете слегка нагреть молоко до температуры не выше 40 градусов.Калории учитывались на основе используемых мной ингредиентов.Таким образом, это приблизительное количество калорий, потому что даже мука может иметь другое количество калорий, чем то, что я использовал.Я готовлю блины хотя бы раз в неделю.Это простое блюдо, быстро и любимое детьми.Вы можете подавать их для любой еды в течение дня.Вы можете взять блины на работу, школу или для пикника.Они просто божественны!',\n",
       " 'Il vetro ha una capacità di 250 ml per me.Per friggere i pancake, ho usato una padella ampia per i pancake: diametro 24 cm.Ho ricevuto 16 frittelle molto sottili dalla quantità di ingredienti dati.Prendi in anticipo le uova dal frigorifero.Puoi anche riscaldare leggermente il latte a una temperatura non superiore a 40 gradi.Le calorie sono state contate sulla base degli ingredienti usati da me.Quindi questa è una quantità approssimativa di calorie, perché anche la farina può avere una quantità diversa di calorie da quella che ho usato.Preparo i pancake almeno una volta alla settimana.È un piatto semplice, veloce e amato dai bambini.Puoi servirli per qualsiasi pasto durante il giorno.Puoi prendere i pancake al lavoro, a scuola o per un picnic.Sono semplicemente divini!',\n",
       " \"Le verre a une capacité de 250 ml pour moi.Pour faire frire les crêpes, j'ai utilisé une large poêle pour les crêpes: diamètre 24 cm.J'ai obtenu 16 crêpes très minces de la quantité d'ingrédients donnés.Prenez les œufs du réfrigérateur à l'avance.Vous pouvez également chauffer légèrement le lait à une température pas supérieure à 40 degrés.Les calories ont été comptées sur la base des ingrédients utilisés par moi.Il s'agit donc d'une quantité approximative de calories, car même la farine peut avoir une quantité différente de calories de celle que j'ai utilisée.Je prépare des crêpes au moins une fois par semaine.C'est un plat simple, rapide et aimé des enfants.Vous pouvez les servir à n'importe quel repas pendant la journée.Vous pouvez prendre des crêpes au travail, à l'école ou pour un pique-nique.Ils sont simplement divins!\",\n",
       " 'Glasset har en kapasitet på 250 ml for meg.For å steke pannekaker brukte jeg en bred panne til pannekaker: diameter 24 cm.Jeg fikk 16 veldig tynne pannekaker fra mengden ingredienser som er gitt.Ta eggene fra kjøleskapet på forhånd.Du kan også varme opp melken lett til en temperatur som ikke er høyere enn 40 grader.Kalorier ble talt på grunnlag av ingrediensene som ble brukt av meg.Så dette er en omtrentlig mengde kalorier, fordi selv mel kan ha en annen mengde kalorier enn den jeg brukte.Jeg forbereder pannekaker minst en gang i uken.Det er en enkel rett, rask og elsket av barn.Du kan servere dem til ethvert måltid på dagtid.Du kan ta pannekaker på jobb, skole eller for en piknik.De er rett og slett guddommelige!']"
      ]
     },
     "execution_count": 111,
     "metadata": {},
     "output_type": "execute_result"
    }
   ],
   "source": [
    "translated"
   ]
  },
  {
   "cell_type": "code",
   "execution_count": 134,
   "id": "99b62da3",
   "metadata": {},
   "outputs": [],
   "source": [
    "import nltk\n",
    "from nltk.tokenize import word_tokenize\n",
    "import random\n",
    "\n",
    "nltk.download('punkt_tab', quiet=True)\n",
    "random.seed(42)\n",
    "\n",
    "def safe_tokenize(text, language, verbose=False) -> list[str]:\n",
    "    try:\n",
    "        return word_tokenize(text, language=language)\n",
    "    except Exception:\n",
    "        if verbose:\n",
    "            print(f\"nltk tokenization possible for language [{language}]... Defaulting to whitespace tokenization\")\n",
    "        return text.split(\" \")\n",
    "\n",
    "tokenized = [safe_tokenize(t, lan, verbose=True) for t, lan in zip(translated, destinations.values())]\n",
    "\n",
    "# replace random words with __MASKNOTTRANSLATED__\n",
    "mask = \"<mask>\"\n",
    "def apply_mask(text: list[str], num_masks=5):\n",
    "    all_indicies = set(list(range(0, len(text)))) # so indexes will be unique\n",
    "    for _ in range(num_masks):\n",
    "        idx = random.choice(list(all_indicies))\n",
    "        text[idx] = mask\n",
    "        all_indicies -= {idx}\n",
    "    return text\n",
    "\n",
    "masked_splitted = []\n",
    "for t in tokenized:\n",
    "    masked_splitted.append(apply_mask(t))"
   ]
  },
  {
   "cell_type": "code",
   "execution_count": 135,
   "id": "f625d5ee",
   "metadata": {},
   "outputs": [
    {
     "name": "stdout",
     "output_type": "stream",
     "text": [
      "['The', 'glass', 'has', 'a', 'capacity', 'of', '<mask>', 'ml', 'for', 'me.To', 'fry', 'pancakes', ',', 'I', 'used', 'a', 'wide', 'pan', 'to', 'pancakes', ':', 'diameter', '24', 'cm.I', 'got', '16', 'very', 'thin', '<mask>', 'from', '<mask>', 'amount', 'of', '<mask>', 'given.Take', 'the', 'eggs', 'from', 'the', 'fridge', 'beforehand.You', 'can', 'also', 'lightly', 'heat', 'the', 'milk', 'to', 'a', 'temperature', 'not', 'higher', 'than', '40', 'degrees.Calories', 'were', 'counted', 'on', 'the', 'basis', 'of', 'the', 'ingredients', 'used', 'by', 'me.So', 'this', 'is', 'an', 'approximate', 'amount', 'of', '<mask>', ',', 'because', 'even', 'flour', 'can', 'have', 'a', 'different', 'amount', 'of', 'calories', 'than', 'the', 'one', 'I', 'used.I', 'prepare', 'pancakes', 'at', 'least', 'once', 'a', 'week.It', 'is', 'a', 'simple', 'dish', ',', 'fast', 'and', 'loved', 'by', 'children.You', 'can', 'serve', 'them', 'for', 'any', 'meal', 'during', 'the', 'day.You', 'can', 'take', 'pancakes', 'to', 'work', ',', 'school', 'or', 'for', 'a', 'picnic.They', 'are', 'simply', 'divine', '!']\n",
      "['El', 'vidrio', 'tiene', 'una', '<mask>', 'de', '250', 'ml', 'para', 'mí.Para', 'freír', 'los', 'panqueques', ',', 'usé', 'una', 'sartén', 'ancha', 'a', 'los', 'panqueques', ':', '<mask>', 'de', '24', 'cm.Obtuve', '<mask>', 'panqueques', 'muy', 'delgados', 'por', 'la', 'cantidad', 'de', 'ingredientes', '<mask>', 'los', 'huevos', 'de', 'la', 'nevera', 'de', 'antemano.También', 'puede', 'calentar', 'ligeramente', 'la', 'leche', 'a', 'una', 'temperatura', 'no', 'superior', 'a', '40', 'grados.Las', 'calorías', 'se', 'contaron', 'sobre', 'la', 'base', 'de', 'los', 'ingredientes', 'utilizados', 'por', 'mí.Entonces', ',', 'esta', 'es', 'una', 'cantidad', 'aproximada', 'de', 'calorías', ',', 'porque', 'incluso', 'la', 'harina', 'puede', 'tener', 'una', 'cantidad', 'diferente', 'de', 'calorías', 'que', 'la', 'que', 'usé.Preparo', 'panqueques', 'al', 'menos', 'una', 'vez', 'a', 'la', 'semana.Es', 'un', 'plato', 'simple', ',', 'rápido', 'y', 'amado', 'por', 'los', 'niños.Puede', 'servirlos', '<mask>', 'cualquier', 'comida', 'durante', 'el', 'día.Puedes', 'llevar', 'panqueques', 'al', 'trabajo', ',', 'la', 'escuela', 'o', 'para', 'un', 'picnic.¡Son', 'simplemente', 'divinos', '!']\n",
      "['Das', 'Glas', 'hat', 'für', 'mich', 'eine', 'Kapazität', '<mask>', '250', 'ml', '.', 'Um', 'Pfannkuchen', 'zu', 'schämen', ',', 'benutzte', 'ich', 'eine', 'breite', 'Pfanne', ',', 'um', 'Pfannkuchen', '<mask>', 'verbringen', ':', 'Durchmesser', '24', 'cm.Ich', 'bekam', '16', 'sehr', 'dünne', 'Pfannkuchen', 'aus', 'der', 'Menge', 'an', 'Zutaten.Nehmen', 'Sie', 'die', 'Eier', 'im', 'Voraus', 'aus', 'dem', 'Kühlschrank.Sie', 'können', 'die', 'Milch', 'auch', 'leicht', 'auf', 'eine', 'Temperatur', 'von', '<mask>', 'mehr', 'als', '40', 'Grad', '<mask>', 'Kalorien', 'wurden', 'auf', 'der', 'Grundlage', 'der', 'von', 'mir', 'verwendeten', 'Zutaten', 'gezählt.Dies', 'ist', 'also', 'eine', 'ungefähre', 'Menge', 'an', 'Kalorien', ',', 'da', 'selbst', 'Mehl', 'eine', 'andere', 'Menge', 'an', 'Kalorien', 'haben', 'kann', 'als', 'die', ',', 'die', 'ich', 'verwendet', 'habe.Ich', 'bereite', 'mindestens', 'einmal', 'pro', 'Woche', 'Pfannkuchen', 'vor.Es', 'ist', 'ein', 'einfaches', 'Gericht', ',', 'schnell', 'und', 'von', 'Kindern', 'geliebt.Sie', 'können', 'sie', 'tagsüber', 'für', 'jede', 'Mahlzeit', 'servieren.Sie', 'können', 'Pfannkuchen', 'zur', 'Arbeit', ',', 'Schule', 'oder', 'ein', 'Picknick', 'nehmen.Sie', '<mask>', 'einfach', 'göttlich', '!']\n",
      "['Стекло', 'имеет', 'для', '<mask>', 'емкость', '250', 'мл.Чтобы', 'жарить', 'блины', ',', 'я', 'использовал', 'широкую', 'кастрюлю', 'для', 'блинов', ':', 'диаметр', '24', 'см.', 'Я', 'получил', '16', 'очень', 'тонких', 'блинов', '<mask>', 'количества', 'данных', 'ингредиентов.Забегайте', 'яйца', 'из', 'холодильника', 'заранее.Вы', 'также', 'можете', 'слегка', 'нагреть', 'молоко', 'до', 'температуры', 'не', 'выше', '40', 'градусов.Калории', 'учитывались', 'на', 'основе', 'используемых', 'мной', 'ингредиентов.Таким', 'образом', ',', 'это', 'приблизительное', 'количество', 'калорий', ',', 'потому', 'что', 'даже', 'мука', 'может', 'иметь', 'другое', 'количество', 'калорий', ',', 'чем', 'то', ',', 'что', '<mask>', 'использовал.Я', 'готовлю', 'блины', 'хотя', '<mask>', 'раз', 'в', 'неделю.Это', 'простое', 'блюдо', ',', 'быстро', 'и', 'любимое', 'детьми.Вы', 'можете', 'подавать', 'их', 'для', 'любой', 'еды', 'в', '<mask>', 'дня.Вы', 'можете', 'взять', 'блины', 'на', 'работу', ',', 'школу', 'или', 'для', 'пикника.Они', 'просто', 'божественны', '!']\n",
      "['Il', 'vetro', 'ha', 'una', 'capacità', 'di', '250', 'ml', 'per', 'me.Per', 'friggere', 'i', 'pancake', ',', 'ho', 'usato', 'una', 'padella', 'ampia', 'per', 'i', 'pancake', ':', 'diametro', '24', 'cm.Ho', 'ricevuto', '16', '<mask>', 'molto', 'sottili', 'dalla', 'quantità', 'di', 'ingredienti', 'dati.Prendi', '<mask>', 'anticipo', 'le', 'uova', 'dal', 'frigorifero.Puoi', 'anche', 'riscaldare', 'leggermente', 'il', 'latte', 'a', 'una', 'temperatura', 'non', 'superiore', 'a', '40', 'gradi.Le', 'calorie', 'sono', 'state', '<mask>', 'sulla', 'base', 'degli', 'ingredienti', 'usati', 'da', 'me.Quindi', 'questa', 'è', 'una', 'quantità', 'approssimativa', 'di', 'calorie', ',', 'perché', 'anche', 'la', '<mask>', 'può', 'avere', 'una', 'quantità', 'diversa', 'di', 'calorie', 'da', 'quella', 'che', 'ho', 'usato.Preparo', 'i', 'pancake', 'almeno', 'una', 'volta', 'alla', 'settimana.È', 'un', 'piatto', 'semplice', ',', 'veloce', 'e', 'amato', 'dai', 'bambini.Puoi', 'servirli', '<mask>', 'qualsiasi', 'pasto', 'durante', 'il', 'giorno.Puoi', 'prendere', 'i', 'pancake', 'al', 'lavoro', ',', 'a', 'scuola', 'o', 'per', 'un', 'picnic.Sono', 'semplicemente', 'divini', '!']\n",
      "['Le', '<mask>', 'a', 'une', 'capacité', 'de', '250', 'ml', 'pour', 'moi.Pour', 'faire', 'frire', 'les', 'crêpes', ',', \"j'ai\", 'utilisé', 'une', 'large', 'poêle', 'pour', 'les', 'crêpes', ':', 'diamètre', '24', \"cm.J'ai\", 'obtenu', '16', 'crêpes', 'très', 'minces', 'de', 'la', 'quantité', \"d'ingrédients\", 'donnés.Prenez', 'les', 'œufs', 'du', 'réfrigérateur', '<mask>', \"l'avance.Vous\", 'pouvez', 'également', 'chauffer', 'légèrement', 'le', 'lait', 'à', 'une', 'température', 'pas', 'supérieure', 'à', '40', 'degrés.Les', 'calories', 'ont', 'été', 'comptées', 'sur', 'la', 'base', 'des', 'ingrédients', 'utilisés', 'par', 'moi.Il', \"s'agit\", 'donc', \"d'une\", 'quantité', '<mask>', 'de', 'calories', ',', 'car', 'même', 'la', 'farine', 'peut', 'avoir', 'une', 'quantité', 'différente', 'de', 'calories', 'de', '<mask>', 'que', \"j'ai\", 'utilisée.Je', 'prépare', 'des', 'crêpes', 'au', 'moins', 'une', 'fois', 'par', \"semaine.C'est\", 'un', 'plat', 'simple', ',', 'rapide', 'et', 'aimé', 'des', '<mask>', 'pouvez', 'les', 'servir', 'à', \"n'importe\", 'quel', 'repas', 'pendant', 'la', 'journée.Vous', 'pouvez', 'prendre', 'des', 'crêpes', 'au', 'travail', ',', 'à', \"l'école\", 'ou', 'pour', 'un', 'pique-nique.Ils', 'sont', 'simplement', 'divins', '!']\n",
      "['Glasset', 'har', 'en', 'kapasitet', 'på', '250', 'ml', 'for', 'meg.For', 'å', 'steke', 'pannekaker', 'brukte', 'jeg', 'en', 'bred', 'panne', 'til', 'pannekaker', ':', 'diameter', '24', 'cm.Jeg', 'fikk', '16', 'veldig', 'tynne', '<mask>', 'fra', 'mengden', 'ingredienser', 'som', 'er', 'gitt.Ta', 'eggene', 'fra', 'kjøleskapet', 'på', 'forhånd.Du', '<mask>', 'også', 'varme', 'opp', 'melken', 'lett', '<mask>', 'en', 'temperatur', 'som', 'ikke', 'er', 'høyere', 'enn', '40', 'grader.Kalorier', 'ble', 'talt', 'på', 'grunnlag', 'av', 'ingrediensene', 'som', 'ble', 'brukt', 'av', 'meg.Så', 'dette', 'er', 'en', 'omtrentlig', 'mengde', 'kalorier', ',', 'fordi', 'selv', 'mel', 'kan', 'ha', 'en', 'annen', 'mengde', 'kalorier', 'enn', 'den', 'jeg', 'brukte.Jeg', 'forbereder', 'pannekaker', 'minst', 'en', 'gang', 'i', 'uken.Det', 'er', 'en', 'enkel', 'rett', ',', 'rask', '<mask>', 'elsket', 'av', 'barn.Du', 'kan', 'servere', 'dem', 'til', 'ethvert', 'måltid', 'på', 'dagtid.Du', 'kan', 'ta', 'pannekaker', 'på', 'jobb', ',', 'skole', 'eller', 'for', 'en', 'piknik.De', 'er', 'rett', '<mask>', 'slett', 'guddommelige', '!']\n"
     ]
    }
   ],
   "source": [
    "for masked in masked_splitted:\n",
    "    print(masked)"
   ]
  },
  {
   "cell_type": "markdown",
   "id": "37607969",
   "metadata": {},
   "source": [
    "### Masking, Translation and Recreation of masked tokens"
   ]
  },
  {
   "cell_type": "code",
   "execution_count": 136,
   "id": "a2d3e515",
   "metadata": {},
   "outputs": [
    {
     "name": "stderr",
     "output_type": "stream",
     "text": [
      "huggingface/tokenizers: The current process just got forked, after parallelism has already been used. Disabling parallelism to avoid deadlocks...\n",
      "To disable this warning, you can either:\n",
      "\t- Avoid using `tokenizers` before the fork if possible\n",
      "\t- Explicitly set the environment variable TOKENIZERS_PARALLELISM=(true | false)\n",
      "3780.29s - pydevd: Sending message related to process being replaced timed-out after 5 seconds\n"
     ]
    }
   ],
   "source": [
    "# some additional dependencies\n",
    "!pip install -q protobuf sacremoses"
   ]
  },
  {
   "cell_type": "code",
   "execution_count": 137,
   "id": "497419d5",
   "metadata": {},
   "outputs": [],
   "source": [
    "def fill_all_masks(sentence, mask_pipeline):\n",
    "    placeholder = \"UNIQUE_MASK_PLACEHOLDER\"\n",
    "    while mask in sentence:\n",
    "        parts = sentence.split(mask, 1)\n",
    "        rest = parts[1].replace(mask, placeholder)\n",
    "        sentence_single_mask = parts[0] + mask + rest\n",
    "\n",
    "        suggestions = mask_pipeline(sentence_single_mask)\n",
    "        best_token = suggestions[0]['token_str']\n",
    "\n",
    "        sentence_filled = sentence_single_mask.replace(mask, best_token, 1)\n",
    "        sentence = sentence_filled.replace(placeholder, mask)\n",
    "    return sentence"
   ]
  },
  {
   "cell_type": "code",
   "execution_count": 138,
   "id": "542f05b7",
   "metadata": {},
   "outputs": [
    {
     "name": "stderr",
     "output_type": "stream",
     "text": [
      "Device set to use cpu\n"
     ]
    },
    {
     "name": "stdout",
     "output_type": "stream",
     "text": [
      "\n",
      "Masked:  Szkło ma dla mnie pojemność 250 ml. Do smażenia naleśników użyłem <mask> patelni <mask> <mask> średnica 24 cm. I dostałem 16 bardzo cienkich naleśników z ilości podanych składników. Wczoraj jaja z lodówki.Może mieć inną ilość kalorii niż ta, której użyłem. Przynajmniej przygotowuję naleśniki przynajmniej raz w tygodniu. To <mask> danie, <mask> i kochane przez dzieci. Możesz podać je na każdy posiłek w ciągu dnia. Możesz zabrać naleśniki do pracy, szkoły lub na piknik. Są po prostu boskie!\n",
      "Filled:  Szkło ma dla mnie pojemność 250 ml. Do smażenia naleśników użyłem specjalnej patelni , jej średnica 24 cm. I dostałem 16 bardzo cienkich naleśników z ilości podanych składników. Wczoraj jaja z lodówki.Może mieć inną ilość kalorii niż ta, której użyłem. Przynajmniej przygotowuję naleśniki przynajmniej raz w tygodniu. To ulubione danie, popularne i kochane przez dzieci. Możesz podać je na każdy posiłek w ciągu dnia. Możesz zabrać naleśniki do pracy, szkoły lub na piknik. Są po prostu boskie!\n",
      "\n",
      "Masked:  Szkło ma dla mnie pojemność <mask> ml. Aby usmażyć naleśniki, użyłem szerokiej patelni do naleśników: średnica 24 cm. Otchnij 16 naleśników bardzo cienki, jest to przybliżona ilość kalorii, ponieważ nawet mąka może mieć <mask> ilość kalorii niż ta, której użyłem. Preparo Panqueques przynajmniej raz <mask> tygodniu. To proste danie, szybkie i kochane przez dzieci. Może serwować je do każdego jedzenia w <mask> dnia. Możesz zabrać naleśniki do pracy, szkoły lub na piknik. <mask> po prostu boskie!\n",
      "Filled:  Szkło ma dla mnie pojemność 200 ml. Aby usmażyć naleśniki, użyłem szerokiej patelni do naleśników: średnica 24 cm. Otchnij 16 naleśników bardzo cienki, jest to przybliżona ilość kalorii, ponieważ nawet mąka może mieć większą ilość kalorii niż ta, której użyłem. Preparo Panqueques przynajmniej raz w tygodniu. To proste danie, szybkie i kochane przez dzieci. Może serwować je do każdego jedzenia w ciągu dnia. Możesz zabrać naleśniki do pracy, szkoły lub na piknik. Są po prostu boskie!\n",
      "\n",
      "Masked:  Dla mnie szkło ma pojemność 250 ml. Aby wstydzić się <mask> użyłem szerokiej patelni, aby <mask> naleśniki: średnica 24 cm. Dostałem 16 bardzo cienkich naleśników z tłumu składników. Wyciągnij jaja z lodówki z wyprzedzeniem. To się liczy. Jest to <mask> ilość kalorii, ponieważ nawet mąka może mieć inną ilość <mask> niż ta, której użyłem. Przynajmniej raz w tygodniu przygotowuję naleśniki. To proste danie, szybko i kochane przez dzieci. Możesz podawać do każdego posiłku <mask> ciągu dnia.\n",
      "Filled:  Dla mnie szkło ma pojemność 250 ml. Aby wstydzić się , użyłem szerokiej patelni, aby przygotować naleśniki: średnica 24 cm. Dostałem 16 bardzo cienkich naleśników z tłumu składników. Wyciągnij jaja z lodówki z wyprzedzeniem. To się liczy. Jest to duża ilość kalorii, ponieważ nawet mąka może mieć inną ilość , niż ta, której użyłem. Przynajmniej raz w tygodniu przygotowuję naleśniki. To proste danie, szybko i kochane przez dzieci. Możesz podawać do każdego posiłku w ciągu dnia.\n",
      "\n",
      "Masked:  Glass ma dla mnie pojemność 250 ml. Do smażenia naleśników użyłem szerokiej patelni na naleśniki: średnicę 24 cm. Otrzymałem 16 bardzo cienkich naleśników z <mask> składników. Wcześniej pieprzyć jajka z lodówki. Możesz również lekko podgrzać mleko do temperatury nie wyższej niż 40 stopni. Kalorie wzięto pod <mask> na podstawie użytych składników. Mąka może mieć inną liczbę kalorii niż używałem. Gotuję naleśniki przynajmniej raz w tygodniu. To proste danie, szybko i ukochane przez dzieci. Możesz <mask> je do dowolnego jedzenia <mask> <mask> dnia. Możesz zabrać naleśniki do pracy, szkoły lub na piknik. Są po prostu boskie!\n",
      "Filled:  Glass ma dla mnie pojemność 250 ml. Do smażenia naleśników użyłem szerokiej patelni na naleśniki: średnicę 24 cm. Otrzymałem 16 bardzo cienkich naleśników z różnych składników. Wcześniej pieprzyć jajka z lodówki. Możesz również lekko podgrzać mleko do temperatury nie wyższej niż 40 stopni. Kalorie wzięto pod uwagę na podstawie użytych składników. Mąka może mieć inną liczbę kalorii niż używałem. Gotuję naleśniki przynajmniej raz w tygodniu. To proste danie, szybko i ukochane przez dzieci. Możesz dodać je do dowolnego jedzenia ( każdego dnia. Możesz zabrać naleśniki do pracy, szkoły lub na piknik. Są po prostu boskie!\n",
      "\n",
      "Masked:  Szkło ma dla mnie pojemność <mask> ml. Aby <mask> naleśniki, użyłem dużej patelni do naleśników: średnica 24 cm. Otrzymałem 16 bardzo cienkich naleśników z ilości składników danych. Z góry jaja z <mask> Nawet mleko lekko podgrzewaj mleko w temperaturze nieprzekraczającej 40 stopni. Kalorie zostały zliczone na podstawie składników użytych przeze mnie. Przybliżone kalorie, ponieważ nawet mąka może mieć inną ilość kalorii niż użyłem. Gram naleśniki przynajmniej raz w tygodniu. To proste danie, szybkie i kochane przez dzieci. Możesz podać je na każdy posiłek w ciągu dnia. <mask> naleśniki w pracy, <mask> szkole lub na piknik. Są po prostu boskie!\n",
      "Filled:  Szkło ma dla mnie pojemność 200 ml. Aby przygotować naleśniki, użyłem dużej patelni do naleśników: średnica 24 cm. Otrzymałem 16 bardzo cienkich naleśników z ilości składników danych. Z góry jaja z dołu Nawet mleko lekko podgrzewaj mleko w temperaturze nieprzekraczającej 40 stopni. Kalorie zostały zliczone na podstawie składników użytych przeze mnie. Przybliżone kalorie, ponieważ nawet mąka może mieć inną ilość kalorii niż użyłem. Gram naleśniki przynajmniej raz w tygodniu. To proste danie, szybkie i kochane przez dzieci. Możesz podać je na każdy posiłek w ciągu dnia. Lubię naleśniki w pracy, w szkole lub na piknik. Są po prostu boskie!\n",
      "\n",
      "Masked:  Glass ma dla mnie pojemność 250 ml. Aby usmażyć naleśniki, <mask> dużej patelni <mask> naleśników: średnica 24 cm. Otrzymałem 16 bardzo cienkich naleśników z podanych składników. Z wyprzedzeniem pory lodówki. <mask> również lekko podgrzać mleko w temperaturze <mask> większej niż 40 stopni. Ja. Jest to zatem przybliżona ilość kalorii, ponieważ nawet mąka <mask> mieć inną ilość kalorii tego, którego użyłem. Przynajmniej raz w tygodniu przygotowuję naleśniki. To proste, szybkie i kochane danie. Możesz podawać im na dowolnym posiłku w ciągu dnia. Możesz brać naleśniki w pracy, w szkole lub na piknik. Są po prostu boskie!\n",
      "Filled:  Glass ma dla mnie pojemność 250 ml. Aby usmażyć naleśniki, potrzebuję dużej patelni do naleśników: średnica 24 cm. Otrzymałem 16 bardzo cienkich naleśników z podanych składników. Z wyprzedzeniem pory lodówki. Można również lekko podgrzać mleko w temperaturze nie większej niż 40 stopni. Ja. Jest to zatem przybliżona ilość kalorii, ponieważ nawet mąka może mieć inną ilość kalorii tego, którego użyłem. Przynajmniej raz w tygodniu przygotowuję naleśniki. To proste, szybkie i kochane danie. Możesz podawać im na dowolnym posiłku w ciągu dnia. Możesz brać naleśniki w pracy, w szkole lub na piknik. Są po prostu boskie!\n",
      "\n",
      "Masked:  Szkło ma dla mnie pojemność 250 ml. Do smażenia naleśników użyłem szerokiej patelni do naleśników: średnica 24 cm. Mam 16 <mask> cienkich naleśników z liczby podanych składników. Wybierz jajka z lodówki z wyprzedzeniem. Możesz również <mask> podgrzać mleko do temperatury, która nie jest wyższa niż 40 stopni. <mask> ponieważ nawet mąka może mieć inną ilość kalorii niż ta, której <mask> Przynajmniej raz w tygodniu przygotowuję naleśniki. To proste danie, szybkie i kochane przez dzieci. Możesz podać je na każdy posiłek w ciągu dnia. <mask> wziąć naleśniki w pracy, w szkole lub na piknik.\n",
      "Filled:  Szkło ma dla mnie pojemność 250 ml. Do smażenia naleśników użyłem szerokiej patelni do naleśników: średnica 24 cm. Mam 16 rodzajów cienkich naleśników z liczby podanych składników. Wybierz jajka z lodówki z wyprzedzeniem. Możesz również spróbować podgrzać mleko do temperatury, która nie jest wyższa niż 40 stopni. A ponieważ nawet mąka może mieć inną ilość kalorii niż ta, której potrzebujemy Przynajmniej raz w tygodniu przygotowuję naleśniki. To proste danie, szybkie i kochane przez dzieci. Możesz podać je na każdy posiłek w ciągu dnia. Możesz wziąć naleśniki w pracy, w szkole lub na piknik.\n"
     ]
    }
   ],
   "source": [
    "from transformers import pipeline\n",
    "from googletrans import Translator\n",
    "\n",
    "mask_pipeline = pipeline('fill-mask', model='allegro/herbert-base-cased')\n",
    "translator = Translator()\n",
    "\n",
    "for foreign_text, lan in zip(translated, destinations.keys()):\n",
    "    # translate to HERBERT native language - polish\n",
    "    pl_text = translator.translate(foreign_text, dest=\"pl\").text\n",
    "    # tokenize\n",
    "    pl_tokens = safe_tokenize(pl_text, language=lan)\n",
    "    # apply mask\n",
    "    masked_tokens = apply_mask(pl_tokens)\n",
    "    # join splitted\n",
    "    masked = \" \".join(masked_tokens)\n",
    "    print(\"\\nMasked: \", masked)\n",
    "    \n",
    "    final_sentence = fill_all_masks(masked, mask_pipeline)\n",
    "    print(\"Filled: \", final_sentence)\n"
   ]
  },
  {
   "cell_type": "markdown",
   "id": "9f5c9f74",
   "metadata": {},
   "source": [
    "## Recursive translation"
   ]
  },
  {
   "cell_type": "code",
   "execution_count": 157,
   "id": "a13a7b7e",
   "metadata": {},
   "outputs": [],
   "source": [
    "original_text = \"Als Zweiter Weltkrieg wird der zweite global geführte Krieg sämtlicher Großmächte im 20. Jahrhundert bezeichnet. Über 60 Staaten waren direkt oder indirekt beteiligt, mehr als 110 Millionen Menschen trugen Waffen. Schätzungen zufolge wurden über 65 Millionen Menschen getötet.\""
   ]
  },
  {
   "cell_type": "code",
   "execution_count": 158,
   "id": "ca845c8d",
   "metadata": {},
   "outputs": [],
   "source": [
    "destinations = {\n",
    "    \"en\": \"english\",\n",
    "    \"es\": \"spanish\",\n",
    "    \"lt\": \"lithuanian\",\n",
    "    \"ru\": \"russian\",\n",
    "    \"hu\": \"hungarian\",\n",
    "    \"it\": \"italian\",\n",
    "    \"fr\": \"french\",\n",
    "    \"sl\": \"slovenian\",\n",
    "    \"no\": \"norwegian\",\n",
    "    \"de\": \"german\"\n",
    "}"
   ]
  },
  {
   "cell_type": "code",
   "execution_count": 163,
   "id": "d70723b6",
   "metadata": {},
   "outputs": [
    {
     "name": "stdout",
     "output_type": "stream",
     "text": [
      "Translating from 'de' to 'en'\n",
      "    Translated: The second global war of all major powers in the 20th century was called the Second World War.Over 60 states were directly or indirectly involved, more than 110 million people wore weapons.It is estimated that over 65 million people were killed.\n",
      "    Levenshtein edit distance: 183\n",
      "Translating from 'en' to 'es'\n",
      "    Translated: La Segunda Guerra Global de todas las potencias importantes en el siglo XX se llamó la Segunda Guerra Mundial. Over 60 estados estaban directa o indirectamente involucrados, más de 110 millones de personas llevaban armas. Se estima que más de 65 millones de personas fueron asesinadas.\n",
      "    Levenshtein edit distance: 207\n",
      "Translating from 'es' to 'lt'\n",
      "    Translated: Antrasis visų svarbių XX amžiaus galių karas buvo vadinamas Antrojo pasaulinio karo.Daugiau nei 60 valstijų tiesiogiai ar netiesiogiai dalyvavo, daugiau nei 110 milijonų žmonių nešiojo ginklus.Manoma, kad žuvo daugiau nei 65 milijonai žmonių.\n",
      "    Levenshtein edit distance: 217\n",
      "Translating from 'lt' to 'ru'\n",
      "    Translated: Вторая война всех важных сил 20 -го века была названа Второй мировой войной. Более 110 миллионов человек выполняли оружие напрямую или косвенно.\n",
      "    Levenshtein edit distance: 249\n",
      "Translating from 'ru' to 'hu'\n",
      "    Translated: A 20. század minden fontos erõjének második háborúját második világháborúnak hívták.Több mint 110 millió ember hajtott végre fegyvereket közvetlenül vagy közvetve.\n",
      "    Levenshtein edit distance: 213\n",
      "Translating from 'hu' to 'it'\n",
      "    Translated: La seconda guerra di tutte le forze importanti del 20 ° secolo fu chiamata Seconda Guerra Mondiale. Più di 110 milioni di persone hanno realizzato armi direttamente o indirettamente.\n",
      "    Levenshtein edit distance: 202\n",
      "Translating from 'it' to 'fr'\n",
      "    Translated: La deuxième guerre de toutes les forces importantes du 20e siècle a été appelée la Seconde Guerre mondiale.Plus de 110 millions de personnes ont fabriqué des armes directement ou indirectement.\n",
      "    Levenshtein edit distance: 199\n",
      "Translating from 'fr' to 'sl'\n",
      "    Translated: Druga vojna vseh pomembnih sil 20. stoletja se je imenovala druga svetovna vojna. V 110 milijonov ljudi so orožje izdelovali neposredno ali posredno.\n",
      "    Levenshtein edit distance: 214\n",
      "Translating from 'sl' to 'no'\n",
      "    Translated: Den andre krigen for alle viktige krefter på 1900 -tallet ble kalt andre verdenskrig.Hos 110 millioner mennesker ble det gjort våpen direkte eller indirekte.\n",
      "    Levenshtein edit distance: 193\n",
      "Translating from 'no' to 'de'\n",
      "    Translated: Der zweite Krieg für alle wichtigen Mächte in den 1900er Jahren wurde als Zweiten Weltkrieg bezeichnet. Hos 110 Millionen Menschen wurden direkt oder indirekt gemacht.\n",
      "    Levenshtein edit distance: 176\n"
     ]
    }
   ],
   "source": [
    "from googletrans import Translator\n",
    "from nltk.metrics import edit_distance\n",
    "import copy\n",
    "\n",
    "translator = Translator()\n",
    "translated = copy.copy(original_text)\n",
    "current_language = \"de\"\n",
    "for lan in destinations.keys():\n",
    "    print(f\"Translating from '{current_language}' to '{lan}'\")\n",
    "    translated = translator.translate(translated, dest=lan, src=\"auto\").text\n",
    "    print(f\"    Translated: {translated}\")\n",
    "\n",
    "    distance = edit_distance(original_text, translated, substitution_cost=1, transpositions=False)\n",
    "    print(f\"    Levenshtein edit distance: {distance}\")\n",
    "    current_language = lan"
   ]
  },
  {
   "cell_type": "markdown",
   "id": "b518e1a6",
   "metadata": {},
   "source": [
    "### How far is the translation and the original text?"
   ]
  },
  {
   "cell_type": "code",
   "execution_count": 167,
   "id": "0872a0c8",
   "metadata": {},
   "outputs": [
    {
     "name": "stdout",
     "output_type": "stream",
     "text": [
      "Original: \n",
      "Als Zweiter Weltkrieg wird der zweite global geführte Krieg sämtlicher Großmächte im 20. Jahrhundert bezeichnet. Über 60 Staaten waren direkt oder indirekt beteiligt, mehr als 110 Millionen Menschen trugen Waffen. Schätzungen zufolge wurden über 65 Millionen Menschen getötet.\n",
      "Translated: \n",
      "Der zweite Krieg für alle wichtigen Mächte in den 1900er Jahren wurde als Zweiten Weltkrieg bezeichnet. Hos 110 Millionen Menschen wurden direkt oder indirekt gemacht.\n",
      "\n",
      "Levenshtein edit distance: 176\n"
     ]
    }
   ],
   "source": [
    "print(f\"Original: \\n{original_text}\")\n",
    "print(f\"Translated: \\n{translated}\")\n",
    "distance = edit_distance(original_text, translated, substitution_cost=1, transpositions=False)\n",
    "print(f\"\\nLevenshtein edit distance: {distance}\")"
   ]
  },
  {
   "cell_type": "markdown",
   "id": "a8616239",
   "metadata": {},
   "source": [
    "The score is high which means there are significant differences between original and multi-tranlated text."
   ]
  },
  {
   "cell_type": "markdown",
   "id": "d41cfd81",
   "metadata": {},
   "source": [
    "## Translating pdf file"
   ]
  },
  {
   "cell_type": "code",
   "execution_count": null,
   "id": "31f1ffa2",
   "metadata": {},
   "outputs": [
    {
     "name": "stderr",
     "output_type": "stream",
     "text": [
      "huggingface/tokenizers: The current process just got forked, after parallelism has already been used. Disabling parallelism to avoid deadlocks...\n",
      "To disable this warning, you can either:\n",
      "\t- Avoid using `tokenizers` before the fork if possible\n",
      "\t- Explicitly set the environment variable TOKENIZERS_PARALLELISM=(true | false)\n",
      "9338.27s - pydevd: Sending message related to process being replaced timed-out after 5 seconds\n"
     ]
    },
    {
     "name": "stdout",
     "output_type": "stream",
     "text": [
      "Requirement already satisfied: PyPDF2 in /home/marcin/projects/WSEI-NLP/.venv/lib/python3.12/site-packages (3.0.1)\n",
      "Collecting fpdf\n",
      "  Downloading fpdf-1.7.2.tar.gz (39 kB)\n",
      "  Installing build dependencies ... \u001b[?25ldone\n",
      "\u001b[?25h  Getting requirements to build wheel ... \u001b[?25ldone\n",
      "\u001b[?25h  Preparing metadata (pyproject.toml) ... \u001b[?25ldone\n",
      "\u001b[?25hBuilding wheels for collected packages: fpdf\n",
      "  Building wheel for fpdf (pyproject.toml) ... \u001b[?25ldone\n",
      "\u001b[?25h  Created wheel for fpdf: filename=fpdf-1.7.2-py2.py3-none-any.whl size=40758 sha256=677026b363189e625a9afe030919a615a74b3f2427a28e5db8c4ed075137efed\n",
      "  Stored in directory: /home/marcin/.cache/pip/wheels/6e/62/11/dc73d78e40a218ad52e7451f30166e94491be013a7850b5d75\n",
      "Successfully built fpdf\n",
      "Installing collected packages: fpdf\n",
      "Successfully installed fpdf-1.7.2\n"
     ]
    }
   ],
   "source": [
    "!pip install -q PyPDF2 fpdf"
   ]
  },
  {
   "cell_type": "code",
   "execution_count": 2,
   "id": "a7e516ad",
   "metadata": {},
   "outputs": [],
   "source": [
    "import PyPDF2\n",
    "from fpdf import FPDF\n",
    "from googletrans import Translator\n",
    "\n",
    "def extract_text(pdf_path):\n",
    "    with open(pdf_path, \"rb\") as f:\n",
    "        reader = PyPDF2.PdfReader(f)\n",
    "        full_text = \"\"\n",
    "        for page in reader.pages:\n",
    "            full_text += page.extract_text() + \"\\n\"\n",
    "    return full_text\n",
    "\n",
    "def translate(text, translate_to = \"de\"):\n",
    "    translator = Translator()\n",
    "    return translator.translate(text, dest=translate_to, src=\"en\").text\n",
    "\n",
    "# 3. Save text to PDF using fpdf (simpler than reportlab)\n",
    "def save_text_to_pdf(text, output_path):\n",
    "    pdf = FPDF()\n",
    "    pdf.add_page()\n",
    "    pdf.set_auto_page_break(auto=True, margin=15)\n",
    "    pdf.set_font(\"Arial\", size=12)\n",
    "    for line in text.split('\\n'):\n",
    "        pdf.cell(0, 10, txt=line, ln=True)\n",
    "    pdf.output(output_path)\n",
    "\n",
    "# Usage\n",
    "input_pdf = \"EN-rival600-manu.pdf\"\n",
    "output_pdf = \"DE-rival600-manu.pdf\"\n",
    "\n",
    "text = extract_text(input_pdf)\n",
    "translated_text = translate(text)\n",
    "save_text_to_pdf(translated_text, output_pdf)"
   ]
  },
  {
   "cell_type": "markdown",
   "id": "57eb08ce",
   "metadata": {},
   "source": [
    "If you look at the original file you can see that all syle was lost"
   ]
  },
  {
   "cell_type": "markdown",
   "id": "952b5276",
   "metadata": {},
   "source": [
    "## Translation with context awareness and large documents handling"
   ]
  },
  {
   "cell_type": "code",
   "execution_count": null,
   "id": "b3f17ac3",
   "metadata": {},
   "outputs": [
    {
     "data": {
      "text/plain": [
       "[============================================================\n",
       " CORE: Struktura rozprawy doktorskiej  zawiera części: teoretyczną oraz empiryczną. Dysertacja obejmuje wstęp, cztery rozdziały, zakończenie, bibliogra fię, spis rysunków, spis tabel i załączników. W rozdziale pierwszym pt. \"Metodologia badań własnych\", została podjęta t e-matyka przedmiotu ora z celu badań. Przedstawiony został problem badawczy, hipot e-zy robocze oraz hipotezy szczegółowe. Zostały poruszone kwestie metod, technik  oraz narzędzi badawczych. Zaprezentowano również obszar badań i scharakteryzow a-no próbę badawczą. Drugi rozdział  pt. \"System bezpieczeństwa informacji w organizacji – teoria problemu\" został poświęcony istocie systemu bezpieczeństwa informacji w organiz a-cji. W rozdziale tym zdefiniowano informację, przedstawiono istotę bezpieczeństwa informacji oraz opisano, czym jest b ezpieczeństwo informacji. Przedstawiono tu ró w-nież prawne wymagania, co do bezpieczeństwa informacji oraz środki techniczne  i organizacyjne mające wpływ na bezpieczeństwo informacji w organizacji. Nakreśl o-no również, czym  jest zarządzanie bezpieczeństwem informacyjnym w organizacji oraz ryzyko w zarządzaniu bezpieczeństwem informacyjnym, jakie znaczenie ma przeprowadzanie audytów i jak powinno wyglądać prawidłowe wdrażanie systemu z a-rządzania bezpieczeństwem informacyjnym.\n",
       " CONTEXT: \n",
       " \tDodatkowym czynnikiem determinującym stały wzrost zainteresowania tem a-tyką bezpieczeństwa informacji są potrzeby dostosowywania organizacji do wymagań mających zastosowanie przepisów prawa i innych wymagań, których celem jest  zapewnienie ochrony określonym grupom interesariuszy. Tematyka związana z bezpieczeństwem informacji nie jest nowym zagadni e-niem, jednakże dobieranie odpowiednich środków oraz próby podejmowane w zakr e-sie systemowej standaryzacji praktyk bezpieczeństwa informacji trwają dopie ro  od początku lat dziewięćdziesiątych ubiegłego wi eku. Pozwoliło to na opracowanie z a-8  rysu systemu wspomagającego zarządzania bezpieczeństwem informacji w jednos t-kach samorządu terytorialnego, który uwzględnia ich specyfikę.\n",
       " \t+++++\n",
       " \tStruktura rozprawy doktorskiej  zawiera części: teoretyczną oraz empiryczną. Dysertacja obejmuje wstęp, cztery rozdziały, zakończenie, bibliogra fię, spis rysunków, spis tabel i załączników. W rozdziale pierwszym pt. \"Metodologia badań własnych\", została podjęta t e-matyka przedmiotu ora z celu badań.\n",
       " ============================================================,\n",
       " ============================================================\n",
       " CORE: W rozdziale trzecim pt. \"Organiza cje publiczne i jej otoczenie\" zostały nakr e-ślone zagadnienia organizacji publicznych, zdefiniowano organizację publiczną, przedstawiono ce chy charaktery styczne współczesnych organizacji, zaprezentowano ich cele oraz opisano, j akie po siadają zasoby. Schara kteryzowano tu również otoczenie organizacji publicznych oraz przedstawiono, jak prezentują się struktury organizacji. Zawarto również informacje na temat struktury ośrodka pomocy społecznej i jego ot o-czenia. Zaprezentowano ustawowe zadania i funkcje ośrod ków pom ocy społecznej oraz opisano for my usług realizowanych przez te instytucje. W rozdziale czwartym pt. \"Usprawnienia systemu bezpieczeństwa obiegu i n-formacji\" przedstawiona została analiza  wyników badań  oraz została opracowana ko n-cepcja usprawnienia sy stemu bezpieczeństwa obiegu informacji. W każdym rozdziale sformułowano wnioski, które były wynikiem weryfikacji przyję tych hipotez. Dysertację wieńczą załączniki, są to kwestionariusz ankiety  oraz arkusz obser wacji. 9  1. Podstawy metodologiczne badań   W nini ejszym rozdziale zostały opisane  metodologiczne podstawy badań. W rozdziale tym przedstawiono jak w literaturze przedmiotu definiuje się takie pojęcia jak: przedmiot badań, cel badań, problem badawczy, hipoteza badawcza.\n",
       " CONTEXT: \n",
       " \tW rozdziale tym zdefiniowano informację, przedstawiono istotę bezpieczeństwa informacji oraz opisano, czym jest b ezpieczeństwo informacji. Przedstawiono tu ró w-nież prawne wymagania, co do bezpieczeństwa informacji oraz środki techniczne  i organizacyjne mające wpływ na bezpieczeństwo informacji w organizacji. Nakreśl o-no również, czym  jest zarządzanie bezpieczeństwem informacyjnym w organizacji oraz ryzyko w zarządzaniu bezpieczeństwem informacyjnym, jakie znaczenie ma przeprowadzanie audytów i jak powinno wyglądać prawidłowe wdrażanie systemu z a-rządzania bezpieczeństwem informacyjnym.\n",
       " \t+++++\n",
       " \tW rozdziale trzecim pt. \"Organiza cje publiczne i jej otoczenie\" zostały nakr e-ślone zagadnienia organizacji publicznych, zdefiniowano organizację publiczną, przedstawiono ce chy charaktery styczne współczesnych organizacji, zaprezentowano ich cele oraz opisano, j akie po siadają zasoby. Schara kteryzowano tu również otoczenie organizacji publicznych oraz przedstawiono, jak prezentują się struktury organizacji. Zawarto również informacje na temat struktury ośrodka pomocy społecznej i jego ot o-czenia.\n",
       " ============================================================]"
      ]
     },
     "execution_count": 25,
     "metadata": {},
     "output_type": "execute_result"
    }
   ],
   "source": [
    "# [x] Find large document\n",
    "# [x] Load document\n",
    "# [x] Read full text\n",
    "# [x] Merge text\n",
    "# [x] Split into 10 sentenses long chunks and save 3 previous and 3 following sentences as context\n",
    "# [] Use mBART or T5 to translate with surronding context\n",
    "# [] Save results in 2 markdown files. One for each language. Each sentence in one\n",
    "\n",
    "import PyPDF2\n",
    "from fpdf import FPDF\n",
    "from nltk.tokenize import word_tokenize, PunktSentenceTokenizer\n",
    "\n",
    "class Chunk:\n",
    "    def __init__(self, core, previous=\"\", following=\"\"):\n",
    "        self.previous: str = previous\n",
    "        self.core: str = core\n",
    "        self.following: str = following\n",
    "\n",
    "    @staticmethod\n",
    "    def from_raw_text(corpus: str, chunk_size: int , context_size: int):\n",
    "        assert chunk_size > context_size, \"Chunk size must be grater than context\"\n",
    "        tokenizer = PunktSentenceTokenizer(corpus)\n",
    "        sentences = tokenizer.tokenize(corpus)\n",
    "\n",
    "        chunks: list['Chunk'] = []\n",
    "\n",
    "        chunks_num = int(len(sentences)/chunk_size)\n",
    "        remaining = len(sentences) - chunks_num\n",
    "\n",
    "        for i in range(chunks_num):\n",
    "            start_idx = i * chunk_size\n",
    "            core = sentences[start_idx:start_idx + chunk_size]\n",
    "            previous_context = sentences[start_idx-context_size: start_idx] if i != 0 else [\"\"]\n",
    "            following_context = sentences[start_idx: start_idx + context_size] if i < chunks_num else sentences[start_idx + context_size: len(sentences)]\n",
    "            \n",
    "            chunks.append(Chunk(Chunk.join_str(core), Chunk.join_str(previous_context), Chunk.join_str(following_context)))\n",
    "\n",
    "        if remaining:\n",
    "            previous_context = chunks[-1].following\n",
    "            core = sentences[-3:]\n",
    "\n",
    "            chunks.append(Chunk(core=core, previous=Chunk.join_str(previous_context), following=\"\"))\n",
    "\n",
    "        return chunks\n",
    "    \n",
    "    def __repr__(self) -> str:\n",
    "        return f\"{60*'='}\\nCORE: {self.core}\\nCONTEXT: \\n\\t{self.previous}\\n\\t+++++\\n\\t{self.following}\\n{60*'='}\"\n",
    "    \n",
    "    @staticmethod\n",
    "    def join_str(splitted: list[str]):\n",
    "        return \" \".join(splitted)\n",
    "    \n",
    "text = extract_text(\"phd_thesis.pdf\").replace('\\n', '')\n",
    "\n",
    "chunks = Chunk.from_raw_text(text, 10, 3)\n",
    "chunks[10:12]"
   ]
  },
  {
   "cell_type": "markdown",
   "id": "6cfa1fc2",
   "metadata": {},
   "source": [
    "## Translation with context awareness, tone adjustment and sentiment analysis"
   ]
  },
  {
   "cell_type": "markdown",
   "id": "5739577c",
   "metadata": {},
   "source": [
    "## Statistic translation with SMT and performence comparison"
   ]
  }
 ],
 "metadata": {
  "kernelspec": {
   "display_name": ".venv",
   "language": "python",
   "name": "python3"
  },
  "language_info": {
   "codemirror_mode": {
    "name": "ipython",
    "version": 3
   },
   "file_extension": ".py",
   "mimetype": "text/x-python",
   "name": "python",
   "nbconvert_exporter": "python",
   "pygments_lexer": "ipython3",
   "version": "3.12.10"
  }
 },
 "nbformat": 4,
 "nbformat_minor": 5
}
