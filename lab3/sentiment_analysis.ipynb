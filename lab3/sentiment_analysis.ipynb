{
 "cells": [
  {
   "cell_type": "markdown",
   "id": "7630ba09",
   "metadata": {},
   "source": [
    "# Tweeter posts analysis"
   ]
  },
  {
   "cell_type": "code",
   "execution_count": 219,
   "id": "5b5d2650",
   "metadata": {},
   "outputs": [
    {
     "name": "stderr",
     "output_type": "stream",
     "text": [
      "27734.79s - pydevd: Sending message related to process being replaced timed-out after 5 seconds\n"
     ]
    }
   ],
   "source": [
    "!pip install -q tweepy python-dotenv spacy spacytextblob nltk stanza"
   ]
  },
  {
   "cell_type": "code",
   "execution_count": 220,
   "id": "123af231",
   "metadata": {},
   "outputs": [
    {
     "data": {
      "text/plain": [
       "True"
      ]
     },
     "execution_count": 220,
     "metadata": {},
     "output_type": "execute_result"
    }
   ],
   "source": [
    "import dotenv\n",
    "\n",
    "dotenv.load_dotenv()"
   ]
  },
  {
   "cell_type": "markdown",
   "id": "5467714c",
   "metadata": {},
   "source": [
    "## Tweets fetching"
   ]
  },
  {
   "cell_type": "code",
   "execution_count": 221,
   "id": "64ee912a",
   "metadata": {},
   "outputs": [
    {
     "data": {
      "text/plain": [
       "44196397"
      ]
     },
     "metadata": {},
     "output_type": "display_data"
    }
   ],
   "source": [
    "import tweepy\n",
    "import os\n",
    "\n",
    "bareer = os.getenv(\"X_BAREER\")\n",
    "\n",
    "client = tweepy.Client(bearer_token=bareer)\n",
    "user = client.get_user(username=\"elonmusk\")\n",
    "id = user.data.id\n",
    "display(id)"
   ]
  },
  {
   "cell_type": "code",
   "execution_count": 222,
   "id": "c4d46fb4",
   "metadata": {},
   "outputs": [],
   "source": [
    "response = client.get_users_tweets(id=str(id), max_results=100)"
   ]
  },
  {
   "cell_type": "code",
   "execution_count": 223,
   "id": "79c3ce0a",
   "metadata": {},
   "outputs": [],
   "source": [
    "import pandas as pd\n",
    "\n",
    "rows = [[\"Elon Musk\", str(tweet)] for tweet in response.data]\n",
    "\n",
    "df = pd.DataFrame(data=rows, columns=[\"author\", \"tweets\"])\n",
    "\n",
    "df.to_csv(\"elon_musk_tweets.csv\", sep=\",\", index=False)"
   ]
  },
  {
   "cell_type": "markdown",
   "id": "c610f167",
   "metadata": {},
   "source": [
    "## Data cleaning"
   ]
  },
  {
   "cell_type": "code",
   "execution_count": 224,
   "id": "c2b37a47",
   "metadata": {},
   "outputs": [
    {
     "name": "stdout",
     "output_type": "stream",
     "text": [
      "['goes', 'norway', ',', 'goes', 'rest', 'world', '.', 'combustion', 'engine', 'cars', 'like', 'steam', 'engine', '–', 'quaint', ',', 'primitive', '.', 'https://t.co/yOuduv8YWK']\n",
      "['29', 'landings', 'single', 'booster', '!', 'https://t.co/N0JeiwCMlm']\n",
      "['rt', ':', 'engineered', 'durability', ',', 'performance', 'designed', 'ruggedized', 'solution', 'customers', 'require', 'reliable', ',', 'high-spee', '…']\n",
      "['starlink', 'available', 'sri', 'lanka', '!', '🇱🇰', 'https://t.co/37X5hNOEfL']\n",
      "['😉']\n"
     ]
    }
   ],
   "source": [
    "# remove stopwords, tokenize\n",
    "import nltk\n",
    "from nltk.corpus import stopwords\n",
    "\n",
    "nltk.download(\"stopwords\", quiet=True)\n",
    "\n",
    "stopwords = stopwords.words(\"english\")\n",
    "\n",
    "tweets_tokens = []\n",
    "tweets = df.tweets.to_list()\n",
    "tokenizer = nltk.tokenize.TweetTokenizer(\n",
    "    preserve_case=False, strip_handles=True, reduce_len=True\n",
    ")\n",
    "for t in tweets:\n",
    "    tokens = tokenizer.tokenize(t)\n",
    "    tokens = [t for t in tokens if t not in stopwords]\n",
    "    tweets_tokens.append(tokens)\n",
    "\n",
    "for tweet in tweets_tokens[:5]:\n",
    "    print(tweet)"
   ]
  },
  {
   "cell_type": "code",
   "execution_count": 225,
   "id": "b6520828",
   "metadata": {},
   "outputs": [
    {
     "name": "stdout",
     "output_type": "stream",
     "text": [
      "Number of rows removed: 47\n"
     ]
    },
    {
     "data": {
      "text/html": [
       "<div>\n",
       "<style scoped>\n",
       "    .dataframe tbody tr th:only-of-type {\n",
       "        vertical-align: middle;\n",
       "    }\n",
       "\n",
       "    .dataframe tbody tr th {\n",
       "        vertical-align: top;\n",
       "    }\n",
       "\n",
       "    .dataframe thead th {\n",
       "        text-align: right;\n",
       "    }\n",
       "</style>\n",
       "<table border=\"1\" class=\"dataframe\">\n",
       "  <thead>\n",
       "    <tr style=\"text-align: right;\">\n",
       "      <th></th>\n",
       "      <th>author</th>\n",
       "      <th>tweets</th>\n",
       "      <th>tweets_tokens</th>\n",
       "    </tr>\n",
       "  </thead>\n",
       "  <tbody>\n",
       "    <tr>\n",
       "      <th>0</th>\n",
       "      <td>Elon Musk</td>\n",
       "      <td>As goes Norway, so goes the rest of the world....</td>\n",
       "      <td>[goes, norway, ,, goes, rest, world, ., combus...</td>\n",
       "    </tr>\n",
       "    <tr>\n",
       "      <th>1</th>\n",
       "      <td>Elon Musk</td>\n",
       "      <td>29 landings of single booster! https://t.co/N0...</td>\n",
       "      <td>[29, landings, single, booster, !, https://t.c...</td>\n",
       "    </tr>\n",
       "    <tr>\n",
       "      <th>2</th>\n",
       "      <td>Elon Musk</td>\n",
       "      <td>RT @Starlink: Engineered for durability, Perfo...</td>\n",
       "      <td>[rt, :, engineered, durability, ,, performance...</td>\n",
       "    </tr>\n",
       "    <tr>\n",
       "      <th>3</th>\n",
       "      <td>Elon Musk</td>\n",
       "      <td>Starlink now available in Sri Lanka! 🇱🇰 https:...</td>\n",
       "      <td>[starlink, available, sri, lanka, !, 🇱🇰, https...</td>\n",
       "    </tr>\n",
       "    <tr>\n",
       "      <th>5</th>\n",
       "      <td>Elon Musk</td>\n",
       "      <td>RT @SawyerMerritt: NEWS: Tesla has released it...</td>\n",
       "      <td>[rt, :, news, :, tesla, released, 2024, annual...</td>\n",
       "    </tr>\n",
       "  </tbody>\n",
       "</table>\n",
       "</div>"
      ],
      "text/plain": [
       "      author                                             tweets  \\\n",
       "0  Elon Musk  As goes Norway, so goes the rest of the world....   \n",
       "1  Elon Musk  29 landings of single booster! https://t.co/N0...   \n",
       "2  Elon Musk  RT @Starlink: Engineered for durability, Perfo...   \n",
       "3  Elon Musk  Starlink now available in Sri Lanka! 🇱🇰 https:...   \n",
       "5  Elon Musk  RT @SawyerMerritt: NEWS: Tesla has released it...   \n",
       "\n",
       "                                       tweets_tokens  \n",
       "0  [goes, norway, ,, goes, rest, world, ., combus...  \n",
       "1  [29, landings, single, booster, !, https://t.c...  \n",
       "2  [rt, :, engineered, durability, ,, performance...  \n",
       "3  [starlink, available, sri, lanka, !, 🇱🇰, https...  \n",
       "5  [rt, :, news, :, tesla, released, 2024, annual...  "
      ]
     },
     "execution_count": 225,
     "metadata": {},
     "output_type": "execute_result"
    }
   ],
   "source": [
    "df[\"tweets_tokens\"] = tweets_tokens\n",
    "original_len = len(df)\n",
    "\n",
    "# remove tweets shorter than 5 tokens as from my first analysis it comes out that those are mostly emogis always classified as 'Neutral'\n",
    "min_tokens = 3\n",
    "df = df[df[\"tweets_tokens\"].apply(lambda x: len(x) >= min_tokens)]\n",
    "new_len = len(df)\n",
    "\n",
    "print(f\"Number of rows removed: {original_len - new_len}\")\n",
    "df.head()"
   ]
  },
  {
   "cell_type": "markdown",
   "id": "05243b9c",
   "metadata": {},
   "source": [
    "## Sentiment analysis with spaCY"
   ]
  },
  {
   "cell_type": "code",
   "execution_count": 226,
   "id": "00911f79",
   "metadata": {},
   "outputs": [
    {
     "name": "stderr",
     "output_type": "stream",
     "text": [
      "27726.79s - pydevd: Sending message related to process being replaced timed-out after 5 seconds\n"
     ]
    },
    {
     "name": "stdout",
     "output_type": "stream",
     "text": [
      "/home/marcin/projects/WSEI-NLP/.venv/lib/python3.12/site-packages/nltk/metrics/association.py:26: UserWarning: A NumPy version >=1.22.4 and <2.3.0 is required for this version of SciPy (detected version 2.3.1)\n",
      "  from scipy.stats import fisher_exact\n",
      "[nltk_data] Downloading package brown to /home/marcin/nltk_data...\n",
      "[nltk_data]   Package brown is already up-to-date!\n",
      "[nltk_data] Downloading package punkt_tab to /home/marcin/nltk_data...\n",
      "[nltk_data]   Package punkt_tab is already up-to-date!\n",
      "[nltk_data] Downloading package wordnet to /home/marcin/nltk_data...\n",
      "[nltk_data]   Package wordnet is already up-to-date!\n",
      "[nltk_data] Downloading package averaged_perceptron_tagger_eng to\n",
      "[nltk_data]     /home/marcin/nltk_data...\n",
      "[nltk_data]   Package averaged_perceptron_tagger_eng is already up-to-\n",
      "[nltk_data]       date!\n",
      "[nltk_data] Downloading package conll2000 to /home/marcin/nltk_data...\n",
      "[nltk_data]   Package conll2000 is already up-to-date!\n",
      "[nltk_data] Downloading package movie_reviews to\n",
      "[nltk_data]     /home/marcin/nltk_data...\n",
      "[nltk_data]   Package movie_reviews is already up-to-date!\n",
      "Finished.\n"
     ]
    },
    {
     "name": "stderr",
     "output_type": "stream",
     "text": [
      "27744.78s - pydevd: Sending message related to process being replaced timed-out after 5 seconds\n"
     ]
    },
    {
     "name": "stdout",
     "output_type": "stream",
     "text": [
      "Collecting en-core-web-sm==3.8.0\n",
      "  Downloading https://github.com/explosion/spacy-models/releases/download/en_core_web_sm-3.8.0/en_core_web_sm-3.8.0-py3-none-any.whl (12.8 MB)\n",
      "\u001b[2K     \u001b[90m━━━━━━━━━━━━━━━━━━━━━━━━━━━━━━━━━━━━━━━━\u001b[0m \u001b[32m12.8/12.8 MB\u001b[0m \u001b[31m41.7 MB/s\u001b[0m eta \u001b[36m0:00:00\u001b[0m00:01\u001b[0m0:02\u001b[0m\n",
      "\u001b[?25h\u001b[38;5;2m✔ Download and installation successful\u001b[0m\n",
      "You can now load the package via spacy.load('en_core_web_sm')\n"
     ]
    }
   ],
   "source": [
    "!python -m textblob.download_corpora;\n",
    "!python -m spacy download en_core_web_sm;"
   ]
  },
  {
   "cell_type": "code",
   "execution_count": null,
   "id": "122f0e94",
   "metadata": {},
   "outputs": [
    {
     "name": "stdout",
     "output_type": "stream",
     "text": [
      "====================================================================================================\n",
      "As goes Norway, so goes the rest of the world. \n",
      "\n",
      "Combustion engine cars will be like the steam engine – quaint, but primitive. https://t.co/yOuduv8YWK\n",
      "\n",
      "Sentiment: 0.00 = Neutral\n",
      "====================================================================================================\n",
      "29 landings of single booster! https://t.co/N0JeiwCMlm\n",
      "\n",
      "Sentiment: -0.09 = Neutral\n",
      "====================================================================================================\n",
      "RT @Starlink: Engineered for durability, Performance was designed to be a ruggedized solution for customers who require reliable, high-spee…\n",
      "\n",
      "Sentiment: 0.00 = Neutral\n",
      "====================================================================================================\n",
      "Starlink now available in Sri Lanka! 🇱🇰 https://t.co/37X5hNOEfL\n",
      "\n",
      "Sentiment: 0.50 = Positive\n",
      "====================================================================================================\n",
      "RT @SawyerMerritt: NEWS: Tesla has released its 2024 annual impact report. It's 42.0 pages long (naturally lol). I'll post all the highligh…\n",
      "\n",
      "Sentiment: 0.38 = Positive\n",
      "====================================================================================================\n",
      "RT @teslaownersSV: Every failure builds greatness keep going Elon https://t.co/1KBeZi582I\n",
      "\n",
      "Sentiment: -0.32 = Negative\n",
      "====================================================================================================\n",
      "Credit where credit is due. \n",
      "\n",
      "@realDonaldTrump has successfully resolved several serious conflicts around the world. https://t.co/0EyHHy5Gfo\n",
      "\n",
      "Sentiment: 0.07 = Neutral\n",
      "====================================================================================================\n",
      "@daltybrewer Just plain wrong 🤷‍♂️ \n",
      "\n",
      "So disappointing\n",
      "\n",
      "Sentiment: -0.44 = Negative\n",
      "====================================================================================================\n",
      "@JessePeltan Maybe there should be a solar Gigafactory in America\n",
      "\n",
      "Sentiment: 0.00 = Neutral\n",
      "====================================================================================================\n",
      "@chiproytx Let’s just hit the debt ceiling and force spending to be within our means. That’s what the debt ceiling legislation is for.\n",
      "\n",
      "Sentiment: 0.00 = Neutral\n",
      "====================================================================================================\n",
      "RT @chiproytx: FACT:  The Senate OBBB increases deficits and violates the terms of the budget deal in the House.\n",
      "\n",
      "FACT: The Senate OBBB gut…\n",
      "\n",
      "Sentiment: 0.00 = Neutral\n",
      "====================================================================================================\n",
      "Follow @Thiss_Youu. \n",
      "\n",
      "Some real gems 😂\n",
      "\n",
      "Sentiment: 0.20 = Positive\n",
      "====================================================================================================\n",
      "RT @johnkrausphotos: https://t.co/AjS5ZWJcOW\n",
      "\n",
      "Sentiment: 0.00 = Neutral\n",
      "====================================================================================================\n",
      "RT @SpaceX: Falcon 9’s first stage has landed on the Just Read the Instructions droneship https://t.co/y73SiYjNmN\n",
      "\n",
      "Sentiment: 0.25 = Positive\n",
      "====================================================================================================\n",
      "@ResethO Seriously 🤦‍♂️\n",
      "\n",
      "Sentiment: -0.33 = Negative\n",
      "====================================================================================================\n",
      "RT @Starlink: Starlink eliminates dead zones, keeping you connected on the road 🛰️🚚\n",
      "\n",
      "Sentiment: -0.20 = Negative\n",
      "====================================================================================================\n",
      "RT @CommunityNotes: Introducing AI Note Writer API 🤖 AI helping humans. Humans still in charge.\n",
      "\n",
      "Starting today, the world can create AI No…\n",
      "\n",
      "Sentiment: 0.00 = Neutral\n",
      "====================================================================================================\n",
      "RT @TheRabbitHole84: “History shows that the government will spend whatever the tax system will yield plus as much more as it can get away…\n",
      "\n",
      "Sentiment: 0.50 = Positive\n",
      "====================================================================================================\n",
      "RT @SenRandPaul: Throughout the Vote-a-rama, I was working all night to stop Congress from adding to our debt.\n",
      "\n",
      "I met with @VP and I reiter…\n",
      "\n",
      "Sentiment: 0.00 = Neutral\n",
      "====================================================================================================\n",
      "RT @SawyerMerritt: It's officially Q3, which means Tesla is supposed to open the first next-gen V4 Supercharger cabinets this quarter, capa…\n",
      "\n",
      "Sentiment: 0.12 = Positive\n",
      "====================================================================================================\n",
      "@ns123abc I believe in hiring super smart junior engineers\n",
      "\n",
      "Sentiment: 0.27 = Positive\n",
      "====================================================================================================\n",
      "RT @Kalshi: BREAKING: Odds of Elon Musk creating a new political party in 2025 surge to 41% \n",
      "\n",
      "The spike comes after Elon proposed forming t…\n",
      "\n",
      "Sentiment: 0.07 = Neutral\n",
      "====================================================================================================\n",
      "Removal of funding for enforcement of federal contempt of court orders is the actual crux of this spending bill.\n",
      "\n",
      "This is nominally aimed at removal of illegal immigrants, but obviously also enables many other abuses of power by the President.\n",
      "\n",
      "Should this be allowed?\n",
      "\n",
      "Sentiment: -0.03 = Neutral\n",
      "====================================================================================================\n",
      "Physics sees through all lies perfectly\n",
      "\n",
      "Sentiment: 1.00 = Positive\n",
      "====================================================================================================\n",
      "@merricklackner @spacesudoer Bannon is going back to prison. This time for a long time.\n",
      "\n",
      "Sentiment: -0.03 = Neutral\n",
      "====================================================================================================\n",
      "RT @DimaZeniuk: People are talking about that Bill right now, but I know there's something more beautiful: https://t.co/yFigQQW8g8\n",
      "\n",
      "Sentiment: 0.55 = Positive\n",
      "====================================================================================================\n",
      "RT @curious_founder: Another big statement against the Senate bill. \n",
      "\n",
      "The trade union representing 860,000 electrical workers says the bill…\n",
      "\n",
      "Sentiment: 0.00 = Neutral\n",
      "====================================================================================================\n",
      "@cb_doge So tempting to escalate this. So, so tempting. But I will refrain for now.\n",
      "\n",
      "Sentiment: 0.00 = Neutral\n",
      "====================================================================================================\n",
      "@DavidSHolz @xenocosmography And how are we supposed to reach Mars if America goes de facto bankrupt?\n",
      "\n",
      "Sentiment: 0.00 = Neutral\n",
      "====================================================================================================\n",
      "@DavidSHolz @xenocosmography #2 is destroyed by this insane spending bill. \n",
      "\n",
      "What good is Doge saving $160B when this bill increases the debt ceiling by $5T? It makes mockery of the work.\n",
      "\n",
      "Sentiment: -0.15 = Negative\n",
      "====================================================================================================\n",
      "RT @wavefnx: We need to infuse the timeline with more CAD propaganda https://t.co/nLx4AJCN0f\n",
      "\n",
      "Sentiment: 0.20 = Positive\n",
      "====================================================================================================\n",
      "RT @MarioNawfal: 🚨 🇺🇸 MIND-BLOWING FEDERAL BUDGET BREAKDOWN: $6.16 TRILLION SPENDING VS $4.47 TRILLION REVENUE\n",
      "\n",
      "The government's fiscal 202…\n",
      "\n",
      "Sentiment: 0.00 = Neutral\n",
      "====================================================================================================\n",
      "@creepydotorg Differences in mental acuity vastly exceed physical differences\n",
      "\n",
      "Sentiment: -0.03 = Neutral\n",
      "====================================================================================================\n",
      "RT @Grummz: PewDiePie joins the Stop Killing Games initiative. https://t.co/ZyKP6v07fz\n",
      "\n",
      "Sentiment: 0.00 = Neutral\n",
      "====================================================================================================\n",
      "@JimSpradlin7 Valid point. Milei gave me the chainsaw backstage and I ran with it, but, in retrospect, it lacked empathy.\n",
      "\n",
      "Sentiment: 0.00 = Neutral\n",
      "====================================================================================================\n",
      "@JDVance Turning off the massive money magnet for illegals is important, but this bill fails to do that\n",
      "\n",
      "Sentiment: -0.03 = Neutral\n",
      "====================================================================================================\n",
      "RT @MarioNawfal: THE $37 TRILLION TIME BOMB\n",
      "\n",
      "Take a look at U.S. national debt from 1900 to 2020. Flat for nearly a century…then boom - exp…\n",
      "\n",
      "Sentiment: 0.04 = Neutral\n",
      "====================================================================================================\n",
      "RT @MarioNawfal: 🇺🇸 SEN. RAND PAUL: CONSERVATIVE? NOT WITH A $5T DEBT CEILING\n",
      "\n",
      "\"We have to judge the effects of the big, not-so-beautiful b…\n",
      "\n",
      "Sentiment: 0.00 = Neutral\n",
      "====================================================================================================\n",
      "RT @MarioNawfal: ELON NEVER WANTED AN EV MANDATE OR SUBSIDIES\n",
      "\n",
      "Elon’s opposition to the ‘One Big Beautiful Bill’ has never been about its r…\n",
      "\n",
      "Sentiment: 0.42 = Positive\n",
      "====================================================================================================\n",
      "RT @anammostarac: On the topic of subsidies: a large sum of public funds flows to already well established companies that aren't inventing…\n",
      "\n",
      "Sentiment: 0.11 = Positive\n",
      "====================================================================================================\n",
      "@TeslaHype Lead us not into temptation\n",
      "\n",
      "Sentiment: 0.00 = Neutral\n",
      "====================================================================================================\n",
      "@ENERGY @SecretaryWright Everything else combined is like cave men throwing little sticks into the fire compared to the Sun\n",
      "\n",
      "Sentiment: -0.19 = Negative\n",
      "====================================================================================================\n",
      "Basic math https://t.co/9LA9JgfvIz\n",
      "\n",
      "Sentiment: 0.00 = Neutral\n",
      "====================================================================================================\n",
      "@MarioNawfal Then why is the debt ceiling being raised by $5 trillion? \n",
      "\n",
      "Sounds like it should be raised by zero.\n",
      "\n",
      "Sentiment: 0.00 = Neutral\n",
      "====================================================================================================\n",
      "RT @Rothmus: Not now, kitten. https://t.co/IYlTPrsu1y\n",
      "\n",
      "Sentiment: 0.00 = Neutral\n",
      "====================================================================================================\n",
      "RT @Starlink: Starlink Mini is compact and connects to high-speed internet in minutes\n",
      "\n",
      "Speeds up to 280+ Mbps\n",
      "\n",
      "Sentiment: 0.00 = Neutral\n",
      "====================================================================================================\n",
      "What’s the point of a debt ceiling if we keep raising it?\n",
      "\n",
      "Sentiment: 0.00 = Neutral\n",
      "====================================================================================================\n",
      "All I’m asking is that we don’t bankrupt America 🤷‍♂️ https://t.co/lt22t3EBpp\n",
      "\n",
      "Sentiment: 0.00 = Neutral\n",
      "====================================================================================================\n",
      "@unusual_whales I am literally saying CUT IT ALL. Now.\n",
      "\n",
      "Sentiment: 0.00 = Neutral\n",
      "====================================================================================================\n",
      "Hitting the debt ceiling is the only thing that will actually force the government to cut waste and fraud. \n",
      "\n",
      "That’s why the debt ceiling legislation exists!\n",
      "\n",
      "Sentiment: -0.08 = Neutral\n",
      "====================================================================================================\n",
      "RT @LibertyCappy: I’m tired of having to remake this meme https://t.co/UUf1GAYpAL\n",
      "\n",
      "Sentiment: -0.40 = Negative\n",
      "====================================================================================================\n",
      "@TheCinesthetic Life of Brian and Tropic Thunder\n",
      "\n",
      "Sentiment: 0.00 = Neutral\n",
      "====================================================================================================\n",
      "RT @MorganStanley: Morgan Stanley is pleased to announce the successful completion of a $5 billion financing of Secured Notes and Term Loan…\n",
      "\n",
      "Sentiment: 0.62 = Positive\n"
     ]
    }
   ],
   "source": [
    "import spacy\n",
    "\n",
    "nlp = spacy.load(\"en_core_web_sm\")\n",
    "nlp.add_pipe(\"spacytextblob\")\n",
    "\n",
    "threshold = 0.1 # this value seems pretty low but in fact spacy is conservative in terms of polarization values and most of them are close to 0\n",
    "\n",
    "spacy_sentiment_stats = {\"Positive\": 0, \"Neutral\": 0, \"Negative\": 0}\n",
    "\n",
    "for text in df.tweets:\n",
    "    print(100 * \"=\")\n",
    "    doc = nlp(text)\n",
    "    print(text)\n",
    "    # display(f\"Subjectivity {doc._.blob.subjectivity}\")\n",
    "    # display(f\"Assesments: {doc._.blob.sentiment_assessments.assessments}\")\n",
    "    sentiment_value = doc._.blob.polarity\n",
    "    sentiment = (\n",
    "        \"Negative\"\n",
    "        if sentiment_value < -threshold\n",
    "        else \"Neutral\" if -threshold <= sentiment_value <= threshold else \"Positive\"\n",
    "    )\n",
    "    spacy_sentiment_stats[sentiment] += 1\n",
    "    print(f\"\\nSentiment: {sentiment_value:.2f} = {sentiment}\")"
   ]
  },
  {
   "cell_type": "markdown",
   "id": "e6dc8bfe",
   "metadata": {},
   "source": [
    "Looks like it does not get sarcazm:\\\n",
    "*\"@realDonaldTrump has successfully resolved several serious conflicts around the world. https://t.co/0EyHHy5Gfo*\n",
    "\n",
    "Sentiment: **0.07 = Positive**\"\n",
    "\n",
    "Or maybe it wasn't a joke..."
   ]
  },
  {
   "cell_type": "code",
   "execution_count": 228,
   "id": "3a6797cc",
   "metadata": {},
   "outputs": [
    {
     "data": {
      "text/plain": [
       "{'Positive': 13, 'Neutral': 33, 'Negative': 7}"
      ]
     },
     "execution_count": 228,
     "metadata": {},
     "output_type": "execute_result"
    }
   ],
   "source": [
    "spacy_sentiment_stats"
   ]
  },
  {
   "cell_type": "code",
   "execution_count": 229,
   "id": "5115770f",
   "metadata": {},
   "outputs": [
    {
     "data": {
      "image/png": "[encoded data removed]",
      "text/plain": [
       "<Figure size 640x480 with 1 Axes>"
      ]
     },
     "metadata": {},
     "output_type": "display_data"
    }
   ],
   "source": [
    "import matplotlib.pyplot as plt\n",
    "\n",
    "plt.title(\"Elon Musk tweets sentiment distribution - Stanza\")\n",
    "plt.bar(spacy_sentiment_stats.keys(), spacy_sentiment_stats.values())\n",
    "plt.ylabel(\"Tweets count\")\n",
    "plt.show()"
   ]
  },
  {
   "cell_type": "markdown",
   "id": "0fc2c3fc",
   "metadata": {},
   "source": [
    "## Linguistic and Sentiment Analysis using Stanza"
   ]
  },
  {
   "cell_type": "code",
   "execution_count": 230,
   "id": "79b1875e",
   "metadata": {},
   "outputs": [],
   "source": [
    "import stanza\n",
    "import random\n",
    "\n",
    "stanza_sentiment_stats = {\"Positive\": 0, \"Neutral\": 0, \"Negative\": 0}\n",
    "\n",
    "stanza_sentiment_idx = {2: \"Positive\", 1: \"Neutral\", 0: \"Negative\"}\n",
    "\n",
    "# stanza returns sentiment for each sentese so I will do majority voting\n",
    "nlp = stanza.Pipeline(lang=\"en\", processors=[\"sentiment\", \"tokenize\"])\n",
    "for idx, text in df.tweets.items():\n",
    "    doc = nlp(text)\n",
    "\n",
    "    sentiment_counter = {\"Positive\": 0, \"Neutral\": 0, \"Negative\": 0}\n",
    "    for i, sentence in enumerate(doc.sentences):\n",
    "        sentiment_value = sentence.sentiment\n",
    "        sentiment_name = stanza_sentiment_idx[sentiment_value]\n",
    "        sentiment_counter[sentiment_name] += 1\n",
    "\n",
    "    sentiment_counter = dict(\n",
    "        sorted(sentiment_counter.items(), key=lambda item: item[1], reverse=True)\n",
    "    )\n",
    "    major_sentiments = []\n",
    "    max_value = max(sentiment_counter.values())\n",
    "    for k, v in sentiment_counter.items():\n",
    "        if v != max_value:\n",
    "            break\n",
    "        major_sentiments.append(k)\n",
    "    tweet_sentiment = random.choice(\n",
    "        major_sentiments\n",
    "    )  # choose one if there are many major sentiments\n",
    "    stanza_sentiment_stats[tweet_sentiment] += 1"
   ]
  },
  {
   "cell_type": "code",
   "execution_count": 231,
   "id": "4e05b37d",
   "metadata": {},
   "outputs": [
    {
     "data": {
      "image/png": "[encoded data removed]",
      "text/plain": [
       "<Figure size 640x480 with 1 Axes>"
      ]
     },
     "metadata": {},
     "output_type": "display_data"
    }
   ],
   "source": [
    "import numpy as np\n",
    "\n",
    "\n",
    "labels = list(spacy_sentiment_stats.keys())\n",
    "spacy_values = list(spacy_sentiment_stats.values())\n",
    "stanza_values = list(stanza_sentiment_stats.values())\n",
    "\n",
    "x = np.arange(len(labels))  # [0, 1, 2]\n",
    "width = 0.35\n",
    "\n",
    "fig, ax = plt.subplots()\n",
    "spacy_bars = ax.bar(x - width / 2, spacy_values, width, label=\"spaCy\")\n",
    "stanza_bars = ax.bar(x + width / 2, stanza_values, width, label=\"Stanza\")\n",
    "\n",
    "ax.set_ylabel(\"Tweets count\")\n",
    "ax.set_title(\"Elon Musk tweets sentiment distribution\")\n",
    "ax.set_xticks(x)\n",
    "ax.set_xticklabels(labels)\n",
    "ax.legend()\n",
    "\n",
    "plt.tight_layout()\n",
    "plt.show()"
   ]
  },
  {
   "cell_type": "markdown",
   "id": "c146699a",
   "metadata": {},
   "source": [
    "### Lemantization"
   ]
  },
  {
   "cell_type": "code",
   "execution_count": 232,
   "id": "8d3fa609",
   "metadata": {},
   "outputs": [],
   "source": [
    "import stanza\n",
    "\n",
    "lemma_map = {}\n",
    "\n",
    "nlp = stanza.Pipeline(lang=\"en\", processors=[\"lemma\", \"tokenize\"], verbose=False)\n",
    "for idx, text in df.tweets[:10].items():\n",
    "    doc = nlp(text)\n",
    "    for sentence in doc.to_dict():\n",
    "        for word in sentence:\n",
    "            if word.get(\"lemma\", False):\n",
    "                lemma_map[word[\"text\"]] = word[\"lemma\"]"
   ]
  },
  {
   "cell_type": "code",
   "execution_count": 233,
   "id": "ffb8e7bd",
   "metadata": {},
   "outputs": [
    {
     "data": {
      "text/plain": [
       "{'As': 'as',\n",
       " 'goes': 'go',\n",
       " 'Combustion': 'combustion',\n",
       " 'cars': 'car',\n",
       " '–': '-',\n",
       " 'landings': 'landing',\n",
       " 'RT': 'rt',\n",
       " '@Starlink': '@starlink',\n",
       " 'Engineered': 'engineered',\n",
       " 'Performance': 'performance',\n",
       " 'was': 'be',\n",
       " 'designed': 'design',\n",
       " 'customers': 'customer',\n",
       " 'Starlink': 'starlink',\n",
       " '@SawyerMerritt': '@sawyermerritt',\n",
       " 'NEWS': 'news',\n",
       " 'has': 'have',\n",
       " 'released': 'release',\n",
       " 'It': 'it',\n",
       " 'pages': 'page',\n",
       " \"'ll\": 'will',\n",
       " 'Every': 'every',\n",
       " 'builds': 'build',\n",
       " 'going': 'go',\n",
       " 'Elon': 'elon',\n",
       " 'Credit': 'credit',\n",
       " 'is': 'be',\n",
       " 'resolved': 'resolve',\n",
       " 'conflicts': 'conflict',\n",
       " 'Just': 'just',\n",
       " 'So': 'so',\n",
       " 'JessePeltan': 'jessepeltan',\n",
       " 'Maybe': 'maybe',\n",
       " 'Gigafactory': 'gigafactory',\n",
       " 'Let': 'let',\n",
       " '’s': \"'s\",\n",
       " 'spending': 'spend',\n",
       " 'means': 'mean',\n",
       " 'That': 'that'}"
      ]
     },
     "execution_count": 233,
     "metadata": {},
     "output_type": "execute_result"
    }
   ],
   "source": [
    "# cases when lemmantic form is not used\n",
    "{k: v for k, v in lemma_map.items() if k != v}"
   ]
  },
  {
   "cell_type": "markdown",
   "id": "81ed46b6",
   "metadata": {},
   "source": [
    "## Named Entity Recognition (NER)"
   ]
  },
  {
   "cell_type": "code",
   "execution_count": 234,
   "id": "da5bead8",
   "metadata": {},
   "outputs": [],
   "source": [
    "# using Stanza\n",
    "import stanza\n",
    "\n",
    "stanza_ner_map = {}\n",
    "\n",
    "nlp = stanza.Pipeline(lang=\"en\", processors=[\"tokenize\", \"ner\"], verbose=False)\n",
    "for idx, text in df.tweets[:10].items():\n",
    "    doc = nlp(text)\n",
    "    for sentence in doc.to_dict():\n",
    "        for word in sentence:\n",
    "            if word.get(\"ner\", False):\n",
    "                stanza_ner_map[word[\"text\"]] = word[\"ner\"]"
   ]
  },
  {
   "cell_type": "code",
   "execution_count": 235,
   "id": "55d29d09",
   "metadata": {},
   "outputs": [
    {
     "name": "stdout",
     "output_type": "stream",
     "text": [
      "{'O', 'S-DATE', 'S-GPE', 'S-PERSON', 'B-GPE', 'S-CARDINAL', 'E-GPE', 'E-ORG', 'S-ORG'}\n"
     ]
    },
    {
     "data": {
      "text/plain": [
       "{'Norway': 'S-GPE',\n",
       " '29': 'S-CARDINAL',\n",
       " 'Starlink': 'S-ORG',\n",
       " 'Sri': 'B-GPE',\n",
       " 'Lanka': 'E-GPE',\n",
       " '@SawyerMerritt': 'E-ORG',\n",
       " 'Tesla': 'S-ORG',\n",
       " '2024': 'S-DATE',\n",
       " '42.0': 'S-CARDINAL',\n",
       " 'Elon': 'S-ORG',\n",
       " '@realDonaldTrump': 'S-ORG',\n",
       " 'JessePeltan': 'S-PERSON',\n",
       " 'Gigafactory': 'S-ORG',\n",
       " 'America': 'S-GPE'}"
      ]
     },
     "execution_count": 235,
     "metadata": {},
     "output_type": "execute_result"
    }
   ],
   "source": [
    "print(set(list(stanza_ner_map.values())))\n",
    "\n",
    "# only not \"Outside\" objects\n",
    "{k: v for k, v in stanza_ner_map.items() if v != \"O\"}"
   ]
  },
  {
   "cell_type": "code",
   "execution_count": 236,
   "id": "cb92a44a",
   "metadata": {},
   "outputs": [],
   "source": [
    "# using spacy\n",
    "import spacy\n",
    "\n",
    "spacy_ner_map = {}\n",
    "nlp = spacy.load(\"en_core_web_sm\")\n",
    "\n",
    "for text in df.tweets:\n",
    "    doc = nlp(text)\n",
    "    for ent in doc.ents:\n",
    "        spacy_ner_map[ent.text] = ent.label_"
   ]
  },
  {
   "cell_type": "code",
   "execution_count": 237,
   "id": "f4edcaf3",
   "metadata": {},
   "outputs": [
    {
     "name": "stdout",
     "output_type": "stream",
     "text": [
      "{'ORDINAL', 'GPE', 'DATE', 'MONEY', 'ORG', 'CARDINAL', 'NORP', 'PRODUCT', 'PERCENT', 'WORK_OF_ART', 'PERSON', 'QUANTITY', 'TIME', 'LOC'}\n"
     ]
    },
    {
     "data": {
      "text/plain": [
       "{'Norway': 'GPE',\n",
       " 'https://t.co/yOuduv8YWK': 'PERSON',\n",
       " '29': 'CARDINAL',\n",
       " 'Performance': 'PERSON',\n",
       " 'Sri Lanka': 'GPE',\n",
       " '2024': 'DATE',\n",
       " '42.0': 'CARDINAL',\n",
       " 'Elon https://t.co/1KBeZi582I': 'PRODUCT',\n",
       " 'America': 'GPE',\n",
       " 'Senate': 'ORG',\n",
       " 'House': 'ORG',\n",
       " 'Falcon': 'ORG',\n",
       " 'the Just Read the Instructions': 'WORK_OF_ART',\n",
       " 'AI': 'GPE',\n",
       " 'today': 'DATE',\n",
       " 'RT @SenRandPaul: Throughout the Vote': 'PERSON',\n",
       " 'all night': 'TIME',\n",
       " 'Congress': 'ORG',\n",
       " 'Tesla': 'ORG',\n",
       " 'first': 'ORDINAL',\n",
       " 'this quarter': 'DATE',\n",
       " '@ns123abc': 'GPE',\n",
       " 'RT @Kalshi': 'PERSON',\n",
       " '2025': 'DATE',\n",
       " '41%': 'PERCENT',\n",
       " 'Elon': 'ORG',\n",
       " '@merricklackner': 'NORP',\n",
       " 'Bannon': 'PERSON',\n",
       " 'Bill': 'PERSON',\n",
       " '860,000': 'CARDINAL',\n",
       " 'Mars': 'LOC',\n",
       " '2': 'MONEY',\n",
       " 'Doge': 'PERSON',\n",
       " '160B': 'MONEY',\n",
       " '5': 'MONEY',\n",
       " 'CAD': 'ORG',\n",
       " 'RT @MarioNawfal:': 'PERSON',\n",
       " '🇸': 'PERSON',\n",
       " 'MIND-BLOWING FEDERAL BUDGET BREAKDOWN': 'ORG',\n",
       " '6.16': 'MONEY',\n",
       " '4.47': 'MONEY',\n",
       " 'TRILLION': 'ORG',\n",
       " 'fiscal 202': 'DATE',\n",
       " '@creepydotorg Differences': 'ORG',\n",
       " 'the Stop Killing Games': 'ORG',\n",
       " 'Valid': 'NORP',\n",
       " '$37': 'MONEY',\n",
       " 'U.S.': 'GPE',\n",
       " '1900 to 2020': 'DATE',\n",
       " 'nearly a century': 'DATE',\n",
       " 'RAND PAUL': 'PERSON',\n",
       " 'RT @anammostarac': 'PERSON',\n",
       " '@TeslaHype Lead': 'PERSON',\n",
       " '@ENERGY': 'ORG',\n",
       " 'Sun': 'LOC',\n",
       " 'https://t.co/9LA9JgfvIz': 'GPE',\n",
       " '$5 trillion': 'MONEY',\n",
       " 'zero': 'CARDINAL',\n",
       " 'minutes': 'TIME',\n",
       " '280+ Mbps': 'QUANTITY',\n",
       " '@TheCinesthetic Life of Brian': 'ORG',\n",
       " 'Tropic Thunder': 'PERSON',\n",
       " 'RT @MorganStanley: Morgan Stanley': 'ORG',\n",
       " '$5 billion': 'MONEY',\n",
       " 'Term Loan': 'ORG'}"
      ]
     },
     "execution_count": 237,
     "metadata": {},
     "output_type": "execute_result"
    }
   ],
   "source": [
    "print(set(list(spacy_ner_map.values())))\n",
    "spacy_ner_map"
   ]
  },
  {
   "cell_type": "markdown",
   "id": "049f4478",
   "metadata": {},
   "source": [
    "|SpaCy|Stanza|\n",
    "|---|---|\n",
    "|✅ 14 entities recognized|❌ 9 entities recognized (including same entity begining **B** and its end **E**)|\n",
    "|✅ better handling of multi-token entities|❌ each multi token entity is splitted|\n",
    "|✅ nice API|❌ returns dicts with inconsistant keys|\n",
    "|✅ works for whole documents|❌ splits text into sentences|\n",
    "\n"
   ]
  },
  {
   "cell_type": "markdown",
   "id": "8e384b03",
   "metadata": {},
   "source": [
    "My personal favourite is tududu **SpaCy**!!"
   ]
  }
 ],
 "metadata": {
  "kernelspec": {
   "display_name": ".venv",
   "language": "python",
   "name": "python3"
  },
  "language_info": {
   "codemirror_mode": {
    "name": "ipython",
    "version": 3
   },
   "file_extension": ".py",
   "mimetype": "text/x-python",
   "name": "python",
   "nbconvert_exporter": "python",
   "pygments_lexer": "ipython3",
   "version": "3.12.10"
  }
 },
 "nbformat": 4,
 "nbformat_minor": 5
}
